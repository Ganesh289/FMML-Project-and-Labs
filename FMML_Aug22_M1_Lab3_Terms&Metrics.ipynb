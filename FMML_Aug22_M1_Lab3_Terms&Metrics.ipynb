{
  "nbformat": 4,
  "nbformat_minor": 0,
  "metadata": {
    "colab": {
      "provenance": [],
      "collapsed_sections": [],
      "include_colab_link": true
    },
    "kernelspec": {
      "name": "python3",
      "display_name": "Python 3"
    },
    "language_info": {
      "name": "python"
    }
  },
  "cells": [
    {
      "cell_type": "markdown",
      "metadata": {
        "id": "view-in-github",
        "colab_type": "text"
      },
      "source": [
        "<a href=\"https://colab.research.google.com/github/Ganesh289/FMML-Project-and-Labs/blob/main/FMML_Aug22_M1_Lab3_Terms%26Metrics.ipynb\" target=\"_parent\"><img src=\"https://colab.research.google.com/assets/colab-badge.svg\" alt=\"Open In Colab\"/></a>"
      ]
    },
    {
      "cell_type": "markdown",
      "metadata": {
        "id": "3Eu9VZbF01eq"
      },
      "source": [
        "# Machine learning terms and metrics\n",
        "\n",
        "**FMML Module 1, Lab 3**\n",
        "\n",
        " In this lab, we will show a part of the ML pipeline by extracting features, training and testing. We will also explore how data augmentation affects accuracy."
      ]
    },
    {
      "cell_type": "code",
      "metadata": {
        "id": "8qBvyEem0vLi"
      },
      "source": [
        "import matplotlib.pyplot as plt\n",
        "import numpy as np\n",
        "from sklearn import datasets\n",
        "# set randomseed\n",
        "rng = np.random.default_rng(seed=42)"
      ],
      "execution_count": null,
      "outputs": []
    },
    {
      "cell_type": "markdown",
      "metadata": {
        "id": "u3t59g5s1HfC"
      },
      "source": [
        "In this lab, we will use the California Housing dataset. There are 20640 samples, each with 8 attributes like income of the block, age of the houses per district etc. The task is to predict the cost of the houses per district. \n",
        "\n",
        "Let us download and examine the dataset. "
      ]
    },
    {
      "cell_type": "code",
      "metadata": {
        "id": "8LpqjN991GGJ",
        "colab": {
          "base_uri": "https://localhost:8080/"
        },
        "outputId": "49b0acdf-008e-41b1-aade-c497065e8263"
      },
      "source": [
        "dataset =  datasets.fetch_california_housing()\n",
        "#print(dataset.DESCR)  # uncomment this if you want to know more about this dataset\n",
        "print(dataset.keys())  # if you want to know what else is there in this dataset\n",
        "dataset.target = dataset.target.astype(np.int) # so that we can classify\n",
        "print(dataset.data.shape)\n",
        "print(dataset.target.shape)"
      ],
      "execution_count": null,
      "outputs": [
        {
          "output_type": "stream",
          "name": "stdout",
          "text": [
            "dict_keys(['data', 'target', 'frame', 'target_names', 'feature_names', 'DESCR'])\n",
            "(20640, 8)\n",
            "(20640,)\n"
          ]
        },
        {
          "output_type": "stream",
          "name": "stderr",
          "text": [
            "/usr/local/lib/python3.7/dist-packages/ipykernel_launcher.py:4: DeprecationWarning: `np.int` is a deprecated alias for the builtin `int`. To silence this warning, use `int` by itself. Doing this will not modify any behavior and is safe. When replacing `np.int`, you may wish to use e.g. `np.int64` or `np.int32` to specify the precision. If you wish to review your current use, check the release note link for additional information.\n",
            "Deprecated in NumPy 1.20; for more details and guidance: https://numpy.org/devdocs/release/1.20.0-notes.html#deprecations\n",
            "  after removing the cwd from sys.path.\n"
          ]
        }
      ]
    },
    {
      "cell_type": "markdown",
      "metadata": {
        "id": "iNx4174W5xRg"
      },
      "source": [
        "Here is a function for calculating the 1-nearest neighbours"
      ]
    },
    {
      "cell_type": "code",
      "source": [
        "type(dataset), dataset.DESCR"
      ],
      "metadata": {
        "colab": {
          "base_uri": "https://localhost:8080/"
        },
        "id": "ut5lj4HsaTfp",
        "outputId": "be4c3d74-947f-4bdb-a5e8-f3065765369b"
      },
      "execution_count": null,
      "outputs": [
        {
          "output_type": "execute_result",
          "data": {
            "text/plain": [
              "(sklearn.utils.Bunch,\n",
              " '.. _california_housing_dataset:\\n\\nCalifornia Housing dataset\\n--------------------------\\n\\n**Data Set Characteristics:**\\n\\n    :Number of Instances: 20640\\n\\n    :Number of Attributes: 8 numeric, predictive attributes and the target\\n\\n    :Attribute Information:\\n        - MedInc        median income in block group\\n        - HouseAge      median house age in block group\\n        - AveRooms      average number of rooms per household\\n        - AveBedrms     average number of bedrooms per household\\n        - Population    block group population\\n        - AveOccup      average number of household members\\n        - Latitude      block group latitude\\n        - Longitude     block group longitude\\n\\n    :Missing Attribute Values: None\\n\\nThis dataset was obtained from the StatLib repository.\\nhttps://www.dcc.fc.up.pt/~ltorgo/Regression/cal_housing.html\\n\\nThe target variable is the median house value for California districts,\\nexpressed in hundreds of thousands of dollars ($100,000).\\n\\nThis dataset was derived from the 1990 U.S. census, using one row per census\\nblock group. A block group is the smallest geographical unit for which the U.S.\\nCensus Bureau publishes sample data (a block group typically has a population\\nof 600 to 3,000 people).\\n\\nAn household is a group of people residing within a home. Since the average\\nnumber of rooms and bedrooms in this dataset are provided per household, these\\ncolumns may take surpinsingly large values for block groups with few households\\nand many empty houses, such as vacation resorts.\\n\\nIt can be downloaded/loaded using the\\n:func:`sklearn.datasets.fetch_california_housing` function.\\n\\n.. topic:: References\\n\\n    - Pace, R. Kelley and Ronald Barry, Sparse Spatial Autoregressions,\\n      Statistics and Probability Letters, 33 (1997) 291-297\\n')"
            ]
          },
          "metadata": {},
          "execution_count": 3
        }
      ]
    },
    {
      "cell_type": "code",
      "metadata": {
        "id": "07zpydQj1hIQ"
      },
      "source": [
        "def NN1(traindata, trainlabel, query):\n",
        "  diff  = traindata - query  # find the difference between features. Numpy automatically takes care of the size here \n",
        "  sq = diff*diff # square the differences\n",
        "  dist = sq.sum(1) # add up the squares\n",
        "  label = trainlabel[np.argmin(dist)] # our predicted label is the label of the training data which has the least distance from the query\n",
        "  return label\n",
        "\n",
        "def NN(traindata, trainlabel, testdata):\n",
        "  # we will run nearest neighbour for each sample in the test data \n",
        "  # and collect the predicted classes in an array using list comprehension\n",
        "  predlabel = np.array([NN1(traindata, trainlabel, i) for i in testdata])\n",
        "  return predlabel\n"
      ],
      "execution_count": null,
      "outputs": []
    },
    {
      "cell_type": "markdown",
      "metadata": {
        "id": "03JktkfIGaje"
      },
      "source": [
        "We will also define a 'random classifier', which randomly allots labels to each sample"
      ]
    },
    {
      "cell_type": "code",
      "metadata": {
        "id": "fogWAtjyGhAH"
      },
      "source": [
        "def RandomClassifier(traindata, trainlabel, testdata):\n",
        "  # in reality, we don't need these arguments\n",
        "\n",
        "  classes = np.unique(trainlabel)\n",
        "  rints = rng.integers(low=0, high=len(classes), size=len(testdata))\n",
        "  predlabel = classes[rints]\n",
        "  return predlabel"
      ],
      "execution_count": null,
      "outputs": []
    },
    {
      "cell_type": "markdown",
      "metadata": {
        "id": "1Hjf1KHs7fU5"
      },
      "source": [
        "Let us define a metric 'Accuracy' to see how good our learning algorithm is. Accuracy is the ratio of the number of correctly classified samples to the total number of samples. The higher the accuracy, the better the algorithm. "
      ]
    },
    {
      "cell_type": "code",
      "metadata": {
        "id": "ouuCqWU07bz-"
      },
      "source": [
        "def Accuracy(gtlabel, predlabel):\n",
        "  assert len(gtlabel)==len(predlabel), \"Length of the groundtruth labels and predicted labels should be the same\"\n",
        "  correct = (gtlabel==predlabel).sum() # count the number of times the groundtruth label is equal to the predicted label.\n",
        "  return correct/len(gtlabel)"
      ],
      "execution_count": null,
      "outputs": []
    },
    {
      "cell_type": "markdown",
      "metadata": {
        "id": "4vJFwBFa9Klw"
      },
      "source": [
        "Let us make a function to split the dataset with the desired probability."
      ]
    },
    {
      "cell_type": "code",
      "metadata": {
        "id": "Ko0VzpSM2Tdi"
      },
      "source": [
        "def split(data, label, percent):\n",
        "  # generate a random number for each sample\n",
        "  rnd = rng.random(len(label))\n",
        "  split1 = rnd<percent\n",
        "  split2 = rnd>=percent\n",
        "  split1data = data[split1,:]\n",
        "  split1label = label[split1]\n",
        "  split2data = data[split2,:]\n",
        "  split2label = label[split2]\n",
        "  return split1data, split1label, split2data, split2label"
      ],
      "execution_count": null,
      "outputs": []
    },
    {
      "cell_type": "markdown",
      "metadata": {
        "id": "AcK3LEAJ_LGC"
      },
      "source": [
        "We will reserve 20% of our dataset as the test set. We will not change this portion throughout our experiments"
      ]
    },
    {
      "cell_type": "code",
      "metadata": {
        "id": "bBZkHBLJ1iU-",
        "colab": {
          "base_uri": "https://localhost:8080/"
        },
        "outputId": "3e48b66b-4708-41f4-8935-1b0a6efa55a5"
      },
      "source": [
        "testdata, testlabel, alltraindata, alltrainlabel = split(dataset.data, dataset.target, 20/100)\n",
        "print('Number of test samples = ', len(testlabel))\n",
        "print('Number of other samples = ', len(alltrainlabel))\n",
        "print('Percent of test data = ', len(testlabel)*100/len(dataset.target),'%')"
      ],
      "execution_count": null,
      "outputs": [
        {
          "output_type": "stream",
          "name": "stdout",
          "text": [
            "Number of test samples =  4155\n",
            "Number of other samples =  16485\n",
            "Percent of test data =  20.13081395348837 %\n"
          ]
        }
      ]
    },
    {
      "cell_type": "markdown",
      "metadata": {
        "id": "a6Ss0Z6IAGNV"
      },
      "source": [
        "## Experiments with splits\n",
        "\n",
        "Let us reserve some of our train data as a validation set"
      ]
    },
    {
      "cell_type": "code",
      "metadata": {
        "id": "WFew2iry_7W7"
      },
      "source": [
        "traindata, trainlabel, valdata, vallabel = split(alltraindata, alltrainlabel, 75/100)"
      ],
      "execution_count": null,
      "outputs": []
    },
    {
      "cell_type": "markdown",
      "metadata": {
        "id": "60hiu4clFN1i"
      },
      "source": [
        "What is the accuracy of our classifiers on the train dataset?"
      ]
    },
    {
      "cell_type": "code",
      "metadata": {
        "id": "DBlZDTHUFTZx",
        "colab": {
          "base_uri": "https://localhost:8080/"
        },
        "outputId": "ba4fe9d8-70b1-4006-f921-3b51e6162b42"
      },
      "source": [
        "trainpred = NN(traindata, trainlabel, traindata)\n",
        "trainAccuracy = Accuracy(trainlabel, trainpred)\n",
        "print(\"Train accuracy using nearest neighbour is \", trainAccuracy)\n",
        "\n",
        "trainpred = RandomClassifier(traindata, trainlabel, traindata)\n",
        "trainAccuracy = Accuracy(trainlabel, trainpred)\n",
        "print(\"Train accuracy using random classifier is \", trainAccuracy)"
      ],
      "execution_count": null,
      "outputs": [
        {
          "output_type": "stream",
          "name": "stdout",
          "text": [
            "Train accuracy using nearest neighbour is  1.0\n",
            "Train accuracy using random classifier is  0.164375808538163\n"
          ]
        }
      ]
    },
    {
      "cell_type": "markdown",
      "source": [
        "## Interesting: See how train accuracy of nearest neighbour is 1 i.e. 100%. Ponder and Explain."
      ],
      "metadata": {
        "id": "tW_I-YuhbQqA"
      }
    },
    {
      "cell_type": "markdown",
      "source": [
        "Explanation:\n",
        "\n",
        "The train accuracy of the **Nearest Neighbour** algorithm is 100% because it has already been trained on the *'traindata'* dataset and has calculated and stored the value of the nearest neighbour for all the members/data points of the dataset. So, if the same dataset is given to it for testing, it will provide a correct classification for all the data points since it already has a classification value stored for each data point in the *'traindata'* dataset."
      ],
      "metadata": {
        "id": "gBm2U-7dCGjo"
      }
    },
    {
      "cell_type": "markdown",
      "metadata": {
        "id": "7h08-9gJDtSy"
      },
      "source": [
        "For nearest neighbour, the train accuracy is always 1. The accuracy of the random classifier is close to 1/(number of classes) which is 0.1666 in our case.\n",
        "\n",
        "Let us predict the labels for our validation set and get the accuracy"
      ]
    },
    {
      "cell_type": "code",
      "metadata": {
        "id": "4h7bXoW_2H3v",
        "colab": {
          "base_uri": "https://localhost:8080/"
        },
        "outputId": "106582d3-1859-4230-c7a5-7980ec8635f1"
      },
      "source": [
        "valpred = NN(traindata, trainlabel, valdata)\n",
        "valAccuracy = Accuracy(vallabel, valpred)\n",
        "print(\"Validation accuracy using nearest neighbour is \", valAccuracy)\n",
        "\n",
        "valpred = RandomClassifier(traindata, trainlabel, valdata)\n",
        "valAccuracy = Accuracy(vallabel, valpred)\n",
        "print(\"Validation accuracy using random classifier is \", valAccuracy)"
      ],
      "execution_count": null,
      "outputs": [
        {
          "output_type": "stream",
          "name": "stdout",
          "text": [
            "Validation accuracy using nearest neighbour is  0.34108527131782945\n",
            "Validation accuracy using random classifier is  0.1688468992248062\n"
          ]
        }
      ]
    },
    {
      "cell_type": "markdown",
      "metadata": {
        "id": "py9bLguFEjfg"
      },
      "source": [
        "Validation accuracy of nearest neighbour is considerably less than its train accuracy while the validation accuracy of random classifier is the same. However, the validation accuracy of nearest neighbour is twice that of the random classifier. \n",
        "\n",
        "Now let us try another random split and check the validation accuracy"
      ]
    },
    {
      "cell_type": "code",
      "metadata": {
        "id": "ujm3cyYzEntE",
        "colab": {
          "base_uri": "https://localhost:8080/"
        },
        "outputId": "e73ca562-0918-4638-a392-9f380906d3d2"
      },
      "source": [
        "traindata, trainlabel, valdata, vallabel = split(alltraindata, alltrainlabel, 75/100)\n",
        "valpred = NN(traindata, trainlabel, valdata)\n",
        "valAccuracy = Accuracy(vallabel, valpred)\n",
        "print(\"Validation accuracy of nearest neighbour is \", valAccuracy)"
      ],
      "execution_count": null,
      "outputs": [
        {
          "output_type": "stream",
          "name": "stdout",
          "text": [
            "Validation accuracy of nearest neighbour is  0.34048257372654156\n"
          ]
        }
      ]
    },
    {
      "cell_type": "markdown",
      "metadata": {
        "id": "oSOx7U83EKie"
      },
      "source": [
        "You can run the above cell multiple times to try with different random splits. \n",
        "We notice that the accuracy is different for each run, but close together. \n",
        "\n",
        "Now let us compare it with the accuracy we get on the test dataset. "
      ]
    },
    {
      "cell_type": "code",
      "metadata": {
        "id": "PNEZ5ToYBEDW",
        "colab": {
          "base_uri": "https://localhost:8080/"
        },
        "outputId": "f2e9ee59-11a9-4bcb-eda3-d15a11b64494"
      },
      "source": [
        "testpred = NN(alltraindata, alltrainlabel, testdata)\n",
        "testAccuracy = Accuracy(testlabel, testpred)\n",
        "print('Test accuracy is ', testAccuracy)"
      ],
      "execution_count": null,
      "outputs": [
        {
          "output_type": "stream",
          "name": "stdout",
          "text": [
            "Test accuracy is  0.34917953667953666\n"
          ]
        }
      ]
    },
    {
      "cell_type": "markdown",
      "metadata": {
        "id": "w3dGD531K3gH"
      },
      "source": [
        "### Try it out for yourself and answer:\n",
        "1. How is the accuracy of the validation set affected if we increase the percentage of validation set? What happens when we reduce it?\n",
        "2. How does the size of the train and validation set affect how well we can predict the accuracy on the test set using the validation set?\n",
        "3. What do you think is a good percentage to reserve for the validation set so that thest two factors are balanced? \n",
        "\n",
        "Answer for both nearest neighbour and random classifier. You can note down the values for your experiments and plot a graph using  <a href=https://matplotlib.org/stable/gallery/lines_bars_and_markers/step_demo.html#sphx-glr-gallery-lines-bars-and-markers-step-demo-py>plt.plot<href>. Check also for extreme values for splits, like 99.9% or 0.1%"
      ]
    },
    {
      "cell_type": "markdown",
      "source": [
        "# Answers"
      ],
      "metadata": {
        "id": "D4YsK7mwfxoz"
      }
    },
    {
      "cell_type": "code",
      "source": [
        "## 1.\n",
        "\n",
        "def val_data(l, h, step):\n",
        "  \n",
        "  data_percent = []\n",
        "  nn_acc = []\n",
        "  random_acc = []\n",
        "\n",
        "  for i in range(l, h+1, step):\n",
        "    percent = i / 100\n",
        "    tr_data, tr_label, val_data, val_label = split(alltraindata, alltrainlabel, percent)\n",
        "\n",
        "    nn_val_prediction = NN(tr_data, tr_label, val_data)\n",
        "    nn_val_accuracy = Accuracy(val_label, nn_val_prediction)\n",
        "\n",
        "    random_val_prediction = RandomClassifier(tr_data, tr_label, val_data)\n",
        "    random_val_accuracy = Accuracy(val_label, random_val_prediction)\n",
        "\n",
        "    data_percent.append(100 - i)\n",
        "    nn_acc.append(nn_val_accuracy)\n",
        "    random_acc.append(random_val_accuracy)\n",
        "\n",
        "  return val_data_percent, nn_acc, random_acc \n",
        "\n",
        "\n",
        "\n",
        "val_data_percent, nn_accuracy, random_accuracy = val_data(1, 100, 4)"
      ],
      "metadata": {
        "id": "aKCSuNKQoSEc"
      },
      "execution_count": null,
      "outputs": []
    },
    {
      "cell_type": "code",
      "source": [
        "plt.scatter(val_data_percent, nn_accuracy)\n",
        "plt.plot(val_data_percent, nn_accuracy)\n",
        "plt.title(\"Nearest Neighbour Classification\")\n",
        "plt.xlabel(\"Percent of Validation data\")\n",
        "plt.ylabel(\"Validation Accuracy\")\n"
      ],
      "metadata": {
        "colab": {
          "base_uri": "https://localhost:8080/",
          "height": 313
        },
        "id": "B7J7MxN5jTyP",
        "outputId": "19744fd0-69de-4fdb-b009-37f4daa90165"
      },
      "execution_count": null,
      "outputs": [
        {
          "output_type": "execute_result",
          "data": {
            "text/plain": [
              "Text(0, 0.5, 'Validation Accuracy')"
            ]
          },
          "metadata": {},
          "execution_count": 99
        },
        {
          "output_type": "display_data",
          "data": {
            "text/plain": [
              "<Figure size 432x288 with 1 Axes>"
            ],
            "image/png": "[encoded data removed]"
          },
          "metadata": {
            "needs_background": "light"
          }
        }
      ]
    },
    {
      "cell_type": "code",
      "source": [
        "plt.scatter(val_data_percent, random_accuracy)\n",
        "plt.plot(val_data_percent, random_accuracy)\n",
        "plt.title(\"Random Classification\")\n",
        "plt.xlabel(\"Percent of Validation data\")\n",
        "plt.ylabel(\"Validation Accuracy\")\n"
      ],
      "metadata": {
        "colab": {
          "base_uri": "https://localhost:8080/",
          "height": 313
        },
        "id": "vn1OGTIVmiEe",
        "outputId": "c34fe54c-7b50-4c88-c07c-d22f86ab2136"
      },
      "execution_count": null,
      "outputs": [
        {
          "output_type": "execute_result",
          "data": {
            "text/plain": [
              "Text(0, 0.5, 'Validation Accuracy')"
            ]
          },
          "metadata": {},
          "execution_count": 100
        },
        {
          "output_type": "display_data",
          "data": {
            "text/plain": [
              "<Figure size 432x288 with 1 Axes>"
            ],
            "image/png": "[encoded data removed]"
          },
          "metadata": {
            "needs_background": "light"
          }
        }
      ]
    },
    {
      "cell_type": "markdown",
      "source": [
        "From the above plots we can observe that, when the percentage of validation data increases the accuracy decreases. Ideal percentage for the validation data is around 10-25%."
      ],
      "metadata": {
        "id": "uAlLvpevnRiX"
      }
    },
    {
      "cell_type": "code",
      "source": [
        "## 2\n",
        "\n",
        "def test_data(l, h, step):\n",
        "  \n",
        "  data_percent = []\n",
        "  nn_acc = []\n",
        "  random_acc = []\n",
        "\n",
        "  for i in range(l, h+1, step):\n",
        "    percent = i / 100\n",
        "    tr_data, tr_label, val_data, val_label = split(alltraindata, alltrainlabel, percent)\n",
        "\n",
        "    nn_test_prediction = NN(tr_data, tr_label, testdata)\n",
        "    nn_test_accuracy = Accuracy(testlabel, nn_test_prediction)\n",
        "\n",
        "    random_test_prediction = RandomClassifier(tr_data, tr_label, testdata)\n",
        "    random_test_accuracy = Accuracy(testlabel, random_test_prediction)\n",
        "\n",
        "    data_percent.append(100 - i)\n",
        "    nn_acc.append(nn_test_accuracy)\n",
        "    random_acc.append(random_test_accuracy)\n",
        "\n",
        "  return val_data_percent, nn_acc, random_acc\n",
        "\n",
        "\n",
        "testdata, testlabel, alltraindata, alltrainlabel = split(dataset.data, dataset.target, 20/100)\n",
        "\n",
        "test_data_percent, test_nn_accuracy, test_random_accuracy = test_data(1, 100, 4)\n",
        "val_data_percent, val_nn_accuracy, val_random_accuracy = val_data(1, 100, 4)"
      ],
      "metadata": {
        "id": "_nO5ApuQn1R4"
      },
      "execution_count": null,
      "outputs": []
    },
    {
      "cell_type": "code",
      "source": [
        "plt.scatter(val_data_percent, test_nn_accuracy)\n",
        "plt.plot(val_data_percent, test_nn_accuracy, label = \"Test_Accuracy\")\n",
        "plt.scatter(val_data_percent, val_nn_accuracy)\n",
        "plt.plot(val_data_percent, val_nn_accuracy, label = \"Validation_Accuracy\")\n",
        "plt.legend()\n",
        "plt.title(\"Test VS Val for NN\")\n",
        "plt.xlabel(\"Validation_data_percent\")\n",
        "plt.ylabel(\"Accuracy\")\n"
      ],
      "metadata": {
        "colab": {
          "base_uri": "https://localhost:8080/",
          "height": 314
        },
        "id": "YDs91u1zTmHA",
        "outputId": "f967717e-1a2d-446e-84e5-84b45852ba52"
      },
      "execution_count": null,
      "outputs": [
        {
          "output_type": "execute_result",
          "data": {
            "text/plain": [
              "Text(0, 0.5, 'Accuracy')"
            ]
          },
          "metadata": {},
          "execution_count": 97
        },
        {
          "output_type": "display_data",
          "data": {
            "text/plain": [
              "<Figure size 432x288 with 1 Axes>"
            ],
            "image/png": "[encoded data removed]"
          },
          "metadata": {
            "needs_background": "light"
          }
        }
      ]
    },
    {
      "cell_type": "code",
      "source": [
        "plt.scatter(val_data_percent, test_random_accuracy)\n",
        "plt.plot(val_data_percent, test_random_accuracy, label = \"Test_Accuracy\")\n",
        "plt.scatter(val_data_percent, val_random_accuracy)\n",
        "plt.plot(val_data_percent, val_random_accuracy, label = \"Validation_Accuracy\")\n",
        "plt.legend()\n",
        "plt.title(\"Test VS Val for Random Classification\")\n",
        "plt.xlabel(\"Validation_data_percent\")\n",
        "plt.ylabel(\"Accuracy\")\n"
      ],
      "metadata": {
        "colab": {
          "base_uri": "https://localhost:8080/",
          "height": 314
        },
        "id": "3W9sxvdhWZTP",
        "outputId": "845c8dbb-3f86-4aa3-c2ca-55bdcb77395f"
      },
      "execution_count": null,
      "outputs": [
        {
          "output_type": "execute_result",
          "data": {
            "text/plain": [
              "Text(0, 0.5, 'Accuracy')"
            ]
          },
          "metadata": {},
          "execution_count": 98
        },
        {
          "output_type": "display_data",
          "data": {
            "text/plain": [
              "<Figure size 432x288 with 1 Axes>"
            ],
            "image/png": "[encoded data removed]"
          },
          "metadata": {
            "needs_background": "light"
          }
        }
      ]
    },
    {
      "cell_type": "markdown",
      "source": [
        "There is **no effect** of the size of the validation data on the accuracy of the model."
      ],
      "metadata": {
        "id": "2TywJ-99XJ5D"
      }
    },
    {
      "cell_type": "markdown",
      "source": [
        "3.\n",
        "\n",
        "According to the plots above we can observe that when the validation data is around 15-16% the accuracy is higher, and for less than 15% the accuracy decreases. Therefore reserving around 15% of the data would be a good percntage."
      ],
      "metadata": {
        "id": "wbQ0CjCwX-aR"
      }
    },
    {
      "cell_type": "code",
      "source": [],
      "metadata": {
        "id": "xZt0y3lkfuD5"
      },
      "execution_count": null,
      "outputs": []
    },
    {
      "cell_type": "markdown",
      "metadata": {
        "id": "PnYvkAZLQY7h"
      },
      "source": [
        "## Multiple Splits\n",
        "\n",
        "One way to get more accurate estimates for the test accuracy is by using <b>crossvalidation</b>. Here, we will try a simple version, where we do multiple train/val splits and take the average of validation accuracies as the test accuracy estimation. Here is a function for doing this. Note that this function will take a long time to execute. "
      ]
    },
    {
      "cell_type": "code",
      "metadata": {
        "id": "E4nGCUQXBTzo"
      },
      "source": [
        "# you can use this function for random classifier also\n",
        "def AverageAccuracy(alldata, alllabel, splitpercent, iterations, classifier=NN):\n",
        "  accuracy = 0\n",
        "  for ii in range(iterations):\n",
        "    traindata, trainlabel, valdata, vallabel = split(alldata, alllabel, splitpercent)\n",
        "    valpred = classifier(traindata, trainlabel, valdata)\n",
        "    accuracy += Accuracy(vallabel, valpred)\n",
        "  return accuracy/iterations # average of all accuracies"
      ],
      "execution_count": null,
      "outputs": []
    },
    {
      "cell_type": "code",
      "metadata": {
        "id": "H3qtNar7Bbik",
        "colab": {
          "base_uri": "https://localhost:8080/"
        },
        "outputId": "a08a029c-d783-4cf0-f7d7-c8ba99fe7871"
      },
      "source": [
        "print('Average validation accuracy is ', AverageAccuracy(alltraindata, alltrainlabel, 75/100, 10, classifier=NN))\n",
        "testpred = NN(alltraindata, alltrainlabel, testdata)\n",
        "print('test accuracy is ',Accuracy(testlabel, testpred) )"
      ],
      "execution_count": null,
      "outputs": [
        {
          "output_type": "stream",
          "name": "stdout",
          "text": [
            "Average validation accuracy is  0.33584635395170215\n",
            "test accuracy is  0.34917953667953666\n"
          ]
        }
      ]
    },
    {
      "cell_type": "markdown",
      "metadata": {
        "id": "33GIn4x5VH-d"
      },
      "source": [
        "This is a very simple way of doing cross-validation. There are many well-known algorithms for cross-validation, like k-fold cross-validation, leave-one-out etc. This will be covered in detail in a later module. For more information about cross-validation, check <a href=https://en.wikipedia.org/wiki/Cross-validation_(statistics)>Cross-validatioin (Wikipedia)</a>\n",
        "\n",
        "### Questions\n",
        "1. Does averaging the validation accuracy across multiple splits give more consistent results?\n",
        "2. Does it give more accurate estimate of test accuracy?\n",
        "3. What is the effect of the number of iterations on the estimate? Do we get a better estimate with higher iterations?\n",
        "4. Consider the results you got for the previous questions. Can we deal with a very small train dataset or validation dataset by increasing the iterations?\n"
      ]
    },
    {
      "cell_type": "markdown",
      "source": [
        "# Answers"
      ],
      "metadata": {
        "id": "LYYNwKcNeZO_"
      }
    },
    {
      "cell_type": "markdown",
      "source": [
        "1. Yes, averaging the validation accuracy across multiple splits gives us a more consistent result since the validation accuracies would be from the model being trained on a number of different permutations of the percentages possible for the validation, training and test data."
      ],
      "metadata": {
        "id": "_i1s27olZygP"
      }
    },
    {
      "cell_type": "markdown",
      "source": [
        "2. If the model is giving better results after adjusting it for increasing the average validation accuracy, then, the accuracy on the test data would inevitably increase. But the test accuracy would generally be a little less than the validation accuracy, unless the test data doesn't follow the same distribution as the training and validation data."
      ],
      "metadata": {
        "id": "N13GD9clazoa"
      }
    },
    {
      "cell_type": "markdown",
      "source": [
        "3. Accuracy of the model will increase with the increase in the number of iterations. But if the number of iterations were very large, then there would be a possibility that the model would overfit the data. So, we need to keep the number of iterations at a level where it doesn't cause overfitting."
      ],
      "metadata": {
        "id": "Km_hNHIfcyYV"
      }
    },
    {
      "cell_type": "markdown",
      "source": [
        "4. Since the size of the training or validation dataset is small, it could cause overfitting of the data if the number of iterations is large. And if the size of the training dataset is very small, then it would cause under fitting of the data. So, the number of iterations should be carefully decided for datasets whose size is very small."
      ],
      "metadata": {
        "id": "S82tvaQ_dwjo"
      }
    },
    {
      "cell_type": "code",
      "source": [],
      "metadata": {
        "id": "IVAHmqA_oTfv"
      },
      "execution_count": null,
      "outputs": []
    },
    {
      "cell_type": "markdown",
      "source": [
        "## Now let us see how augmentation affects accuracy. We will pick components from what we studied in the last module"
      ],
      "metadata": {
        "id": "UUft9G1acwlB"
      }
    },
    {
      "cell_type": "markdown",
      "source": [
        "we will experiment with MNIST dataset\n"
      ],
      "metadata": {
        "id": "XtU3AfVDkkYM"
      }
    },
    {
      "cell_type": "code",
      "source": [
        "import numpy as np\n",
        "import matplotlib.pyplot as plt\n",
        "from keras.datasets import mnist\n",
        "# set randomseed\n",
        "rng = np.random.default_rng(seed=42)\n",
        "from sklearn.utils.extmath import cartesian\n",
        "from skimage.transform import rotate, AffineTransform, warp\n",
        "import math\n",
        "\n",
        "#loading the dataset\n",
        "(train_X, train_y), (test_X, test_y) = mnist.load_data()\n",
        "\n",
        "print(train_X[0].shape,train_y[0])\n",
        "\n"
      ],
      "metadata": {
        "colab": {
          "base_uri": "https://localhost:8080/"
        },
        "id": "47HIwFsMkebm",
        "outputId": "1f99d0a4-b9ba-430f-aca2-7f084cf5daba"
      },
      "execution_count": null,
      "outputs": [
        {
          "output_type": "stream",
          "name": "stdout",
          "text": [
            "Downloading data from https://storage.googleapis.com/tensorflow/tf-keras-datasets/mnist.npz\n",
            "11493376/11490434 [==============================] - 0s 0us/step\n",
            "11501568/11490434 [==============================] - 0s 0us/step\n",
            "(28, 28) 5\n"
          ]
        }
      ]
    },
    {
      "cell_type": "code",
      "source": [
        "train_X = train_X/255\n",
        "test_X = test_X/255\n",
        "\n",
        "#train_X[0].shape, train_X[0]"
      ],
      "metadata": {
        "id": "WW6ZGBcTkyXB"
      },
      "execution_count": null,
      "outputs": []
    },
    {
      "cell_type": "code",
      "source": [
        "train_X = train_X[::1200,:,:].copy() # subsample. Otherwise it will take too long!\n",
        "train_y = train_y[::1200].copy() # do the same to the labels"
      ],
      "metadata": {
        "id": "64ATS9mtk_mA"
      },
      "execution_count": null,
      "outputs": []
    },
    {
      "cell_type": "code",
      "metadata": {
        "id": "1WileBUqC404"
      },
      "source": [
        "## Augmentation functions:\n",
        "\n",
        "\n",
        "\n",
        "def augRotate(sample, angleconstraint):\n",
        "  if angleconstraint==0:\n",
        "    return sample\n",
        "\n",
        "  print(\"shape of sample before is:\", sample.shape)\n",
        "  print(\"len(sample.shape)\", len(sample.shape))\n",
        "  if len(sample.shape)==2:\n",
        "    sample = np.expand_dims(sample, 0)  # make sure the sample is 3 dimensional\n",
        "    print(\"shape of sample is:\", sample.shape)\n",
        "  angle = rng.random(len(sample)) # generate random numbers for angles\n",
        "  print(\"angle is:\", angle)\n",
        "  angle = (angle-0.5)*angleconstraint # make the random angle constrained\n",
        "  print(\"angle with constraint is:\", angle)\n",
        "  nsample = sample.copy() # preallocate the augmented array to make it faster\n",
        "  for ii in range(len(sample)):\n",
        "    nsample[ii] = rotate(sample[ii], angle[ii])\n",
        "  return np.squeeze(nsample) # take care if the input had only one sample.\n",
        "\n",
        "\n",
        "def NN1(traindata, trainlabel, query):\n",
        "  diff  = traindata - query  # find the difference between features. Numpy automatically takes care of the size here \n",
        "  sq = diff*diff # square the differences\n",
        "  dist = sq.sum(1) # add up the squares\n",
        "  label = trainlabel[np.argmin(dist)] # our predicted label is the label of the training data which has the least distance from the query\n",
        "  return label\n",
        "\n",
        "def NN(traindata, trainlabel, testdata):\n",
        "  # we will run nearest neighbour for each sample in the test data \n",
        "  # and collect the predicted classes in an array using list comprehension\n",
        "  predlabel = np.array([NN1(traindata, trainlabel, i) for i in testdata])\n",
        "  return predlabel\n",
        "\n",
        "def Accuracy(gtlabel, predlabel):\n",
        "  assert len(gtlabel)==len(predlabel), \"Length of the groundtruth labels and predicted labels should be the same\"\n",
        "  correct = (gtlabel==predlabel).sum() # count the number of times the groundtruth label is equal to the predicted label.\n",
        "  return correct/len(gtlabel)"
      ],
      "execution_count": null,
      "outputs": []
    },
    {
      "cell_type": "code",
      "source": [
        "def shear(sample, amount):\n",
        "  tform = AffineTransform(shear = amount) # create the shear transform\n",
        "  img = warp(sample, tform) # apply the shear\n",
        "  # this makes the digit off-center. Since all the images in the test set are centralized, we will do the same here\n",
        "  col = img.sum(0).nonzero()[0]\n",
        "  row = img.sum(1).nonzero()[0]\n",
        "  if len(col)>0 and len(row)>0:\n",
        "    xshift = int(sample.shape[0]/2 - (row[0]+row[-1])/2)\n",
        "    yshift = int(sample.shape[1]/2 - (col[0]+col[-1])/2)\n",
        "    img = np.roll(img, (xshift, yshift),(0,1))\n",
        "  return img\n",
        "\n",
        "def augShear(sample, shearconstraint):\n",
        "  if shearconstraint==0:\n",
        "    return sample\n",
        "  if len(sample.shape)==2:\n",
        "    sample = np.expand_dims(sample, 0)  # make sure the sample is 3 dimensional\n",
        "  amt = rng.random(len(sample)) # generate random numbers for shear\n",
        "  amt = (amt-0.5)*shearconstraint # make the random shear constrained\n",
        "  nsample = sample.copy() # preallocate the augmented array to make it faster\n",
        "  for ii in range(len(sample)):\n",
        "    nsample[ii] = shear(sample[ii], amt[ii])\n",
        "  return np.squeeze(nsample) # take care if the input had only one sample.\n",
        "\n",
        "\n"
      ],
      "metadata": {
        "id": "BIsZ_Q5LqWEs"
      },
      "execution_count": null,
      "outputs": []
    },
    {
      "cell_type": "markdown",
      "source": [
        "In this lab, we will use the image pixels themselves as features, instead of extracting features. Each image has 28*28 pixels, so we will flatten them to 784 pixels to use as features. Note that this is very compute intensive and will take a long time.\n",
        "\n",
        "Let us check the baseline accuracy on the test set without any augmentations. We hope that adding augmentations will help us to get better results."
      ],
      "metadata": {
        "id": "vAFpOzQFj-2r"
      }
    },
    {
      "cell_type": "code",
      "source": [
        "testpred = NN(train_X, train_y, test_X)\n",
        "print('Baseline accuracy without augmentation is ', Accuracy(test_y, testpred))"
      ],
      "metadata": {
        "colab": {
          "base_uri": "https://localhost:8080/"
        },
        "id": "dPNdNyFVj4pX",
        "outputId": "9c4d4a75-2d07-4674-9fe0-5e24a6e9cf4e"
      },
      "execution_count": null,
      "outputs": [
        {
          "output_type": "stream",
          "name": "stdout",
          "text": [
            "Baseline accuracy without augmentation is  0.6472\n"
          ]
        }
      ]
    },
    {
      "cell_type": "markdown",
      "source": [
        "Let us try to improve this accuracy using augmentations. When we create augmentations, we have to make sure that the changes reflect what will naturally occur in the dataset. For example, we should not add colour to our samples as an augmentation because they do not naturally occur. We should not also flip the images in MNIST, because flipped images have different meanings for digits."
      ],
      "metadata": {
        "id": "MckdgpPflSYh"
      }
    },
    {
      "cell_type": "markdown",
      "source": [
        "Let us augment the whole dataset and see if this improves the test accuracy"
      ],
      "metadata": {
        "id": "7aWfHHggmqu7"
      }
    },
    {
      "cell_type": "code",
      "source": [
        "# hyperparameters\n",
        "angleconstraint = 60\n",
        "naugmentations = 5\n",
        "\n",
        "# augment\n",
        "augdata = train_X # we include the original images also in the augmented dataset\n",
        "auglabel = train_y\n",
        "for ii in range(naugmentations):\n",
        "  augdata = np.concatenate((augdata, augRotate(train_X, angleconstraint))) # concatenate the augmented data to the set\n",
        "  auglabel = np.concatenate((auglabel, train_y))  # the labels don't change when we augment\n",
        "\n",
        "# check the test accuracy\n",
        "testpred = NN(augdata, auglabel, test_X)\n",
        "print('Accuracy after rotation augmentation is ', Accuracy(test_y, testpred))"
      ],
      "metadata": {
        "colab": {
          "base_uri": "https://localhost:8080/"
        },
        "id": "Kdn0TZ_tlMg3",
        "outputId": "d1e944f1-f99a-4348-c44e-6d475b917f8a"
      },
      "execution_count": null,
      "outputs": [
        {
          "output_type": "stream",
          "name": "stdout",
          "text": [
            "shape of sample before is: (50, 28, 28)\n",
            "len(sample.shape) 3\n",
            "angle is: [0.77395605 0.43887844 0.85859792 0.69736803 0.09417735 0.97562235\n",
            " 0.7611397  0.78606431 0.12811363 0.45038594 0.37079802 0.92676499\n",
            " 0.64386512 0.82276161 0.4434142  0.22723872 0.55458479 0.06381726\n",
            " 0.82763117 0.6316644  0.75808774 0.35452597 0.97069802 0.89312112\n",
            " 0.7783835  0.19463871 0.466721   0.04380377 0.15428949 0.68304895\n",
            " 0.74476216 0.96750973 0.32582536 0.37045971 0.46955581 0.18947136\n",
            " 0.12992151 0.47570493 0.22690935 0.66981399 0.43715192 0.8326782\n",
            " 0.7002651  0.31236664 0.8322598  0.80476436 0.38747838 0.2883281\n",
            " 0.6824955  0.13975248]\n",
            "angle with constraint is: [ 16.43736291  -3.66729361  21.51587519  11.84208174 -24.34935913\n",
            "  28.5373411   15.66838212  17.16385832 -22.31318204  -2.97684373\n",
            "  -7.75211855  25.60589933   8.6319072   19.3656968   -3.39514807\n",
            " -16.36567669   3.27508722 -26.17096463  19.65787032   7.89986395\n",
            "  15.48526441  -8.72844191  28.24188146  23.58726728  16.70300982\n",
            " -18.32167753  -1.99673978 -27.37177405 -20.74263048  10.98293719\n",
            "  14.68572935  28.05058395 -10.45047851  -7.77241764  -1.82665132\n",
            " -18.63171845 -22.20470968  -1.45770443 -16.38543906  10.18883968\n",
            "  -3.77088487  19.96069176  12.01590612 -11.25800152  19.93558808\n",
            "  18.28586145  -6.75129726 -12.70031376  10.94973024 -21.61485098]\n",
            "shape of sample before is: (50, 28, 28)\n",
            "len(sample.shape) 3\n",
            "angle is: [0.1999082  0.00736227 0.78692438 0.66485086 0.70516538 0.78072903\n",
            " 0.45891578 0.5687412  0.139797   0.11453007 0.66840296 0.47109621\n",
            " 0.56523611 0.76499886 0.63471832 0.5535794  0.55920716 0.3039501\n",
            " 0.03081783 0.43671739 0.21458467 0.40852864 0.85340307 0.23393949\n",
            " 0.05830274 0.28138389 0.29359376 0.66191651 0.55703215 0.78389821\n",
            " 0.66431354 0.40638686 0.81402038 0.16697292 0.02271207 0.09004786\n",
            " 0.72235935 0.46187723 0.16127178 0.50104478 0.1523121  0.69632038\n",
            " 0.44615628 0.38102123 0.30151209 0.63028259 0.36181261 0.08764992\n",
            " 0.1180059  0.96189766]\n",
            "angle with constraint is: [-18.00550785 -29.55826381  17.21546265   9.8910514   12.30992272\n",
            "  16.84374186  -2.46505347   4.12447176 -21.61218011 -23.12819559\n",
            "  10.10417771  -1.73422763   3.91416639  15.89993144   8.0830992\n",
            "   3.21476404   3.55242964 -11.76299412 -28.15092993  -3.79695665\n",
            " -17.12491963  -5.48828138  21.2041844  -15.96363085 -26.5018355\n",
            " -13.11696648 -12.38437453   9.71499088   3.42192914  17.03389255\n",
            "   9.85881242  -5.61678831  18.84122308 -19.98162481 -28.63727561\n",
            " -24.59712835  13.34156104  -2.28736618 -20.32369326   0.06268651\n",
            " -20.86127384  11.7792225   -3.23062347  -7.13872643 -11.90927465\n",
            "   7.81695559  -8.29124337 -24.74100484 -22.91964587  27.71385987]\n",
            "shape of sample before is: (50, 28, 28)\n",
            "len(sample.shape) 3\n",
            "angle is: [0.90858069 0.69970713 0.26586996 0.96917638 0.7787509  0.71689019\n",
            " 0.4493615  0.27224156 0.09639096 0.9026024  0.45577629 0.20236336\n",
            " 0.30595662 0.57921957 0.17677278 0.85661428 0.75851953 0.71946296\n",
            " 0.43209304 0.62730884 0.58409797 0.6498466  0.08444432 0.4158074\n",
            " 0.04161417 0.49399082 0.32986121 0.14452419 0.10340297 0.58764457\n",
            " 0.17059297 0.92512012 0.58106114 0.3468698  0.59091549 0.02280387\n",
            " 0.95855921 0.48230344 0.78273523 0.08273    0.48665833 0.49070699\n",
            " 0.93782645 0.57172805 0.4734894  0.26697566 0.331569   0.5206724\n",
            " 0.43891146 0.02161208]\n",
            "angle with constraint is: [ 24.51484144  11.98242803 -14.04780231  28.15058264  16.72505424\n",
            "  13.01341135  -3.03830987 -13.66550629 -24.21654227  24.15614379\n",
            "  -2.65342261 -17.85819811 -11.64260255   4.75317414 -19.39363302\n",
            "  21.39685705  15.51117179  13.16777736  -4.07441761   7.63853044\n",
            "   5.04587813   8.99079609 -24.93334073  -5.05155587 -27.50314957\n",
            "  -0.36055085 -10.20832726 -21.32854867 -23.79582194   5.25867433\n",
            " -19.76442189  25.5072071    4.86366838  -9.18781173   5.45492949\n",
            " -28.63176774  27.51355279  -1.06179378  16.96411364 -25.0362\n",
            "  -0.80050015  -0.55758034  26.2695873    4.30368314  -1.59063594\n",
            " -13.98146021 -10.10586016   1.24034415  -3.66531238 -28.70327521]\n",
            "shape of sample before is: (50, 28, 28)\n",
            "len(sample.shape) 3\n",
            "angle is: [0.82629192 0.89616077 0.14024909 0.55403614 0.10857574 0.67224009\n",
            " 0.28123378 0.65942263 0.72699461 0.76864749 0.10774095 0.91601185\n",
            " 0.23021399 0.03741256 0.55485247 0.37092228 0.82978974 0.80825147\n",
            " 0.31713889 0.9528994  0.29091784 0.51505713 0.25596509 0.93604357\n",
            " 0.16460782 0.04491062 0.43509706 0.99237556 0.89167727 0.74860802\n",
            " 0.89079249 0.89344664 0.51885836 0.31592905 0.77201243 0.66166126\n",
            " 0.37365773 0.09446667 0.74678961 0.26246052 0.93681315 0.24097058\n",
            " 0.12275793 0.83111267 0.15328432 0.17926831 0.59938279 0.87456204\n",
            " 0.19643467 0.31032367]\n",
            "angle with constraint is: [ 19.57751545  23.76964631 -21.58505466   3.24216861 -23.48545553\n",
            "  10.33440558 -13.12597297   9.56535808  13.61967686  16.11884952\n",
            " -23.53554324  24.96071071 -16.18716055 -27.75524663   3.29114816\n",
            "  -7.74466297  19.78738459  18.49508832 -10.97166643  27.1739637\n",
            " -12.54492971   0.90342775 -14.64209457  26.1626142  -20.12353095\n",
            " -27.30536284  -3.8941764   29.54253384  23.50063598  14.91648117\n",
            "  23.44754945  23.60679838   1.13150162 -11.04425689  16.32074593\n",
            "   9.69967579  -7.58053627 -24.33199992  14.80737668 -14.25236904\n",
            "  26.20878903 -15.5417655  -22.63452406  19.86676033 -20.802941\n",
            " -19.24390151   5.96296749  22.47372245 -18.21392006 -11.38057963]\n",
            "shape of sample before is: (50, 28, 28)\n",
            "len(sample.shape) 3\n",
            "angle is: [0.77740484 0.97182643 0.50074119 0.1438975  0.01393629 0.22965603\n",
            " 0.13182222 0.67765867 0.1218325  0.50632993 0.69426244 0.58111661\n",
            " 0.19977565 0.80412453 0.71540713 0.738984   0.13105775 0.1237538\n",
            " 0.92756255 0.39757819 0.30094869 0.48858405 0.66286421 0.95562326\n",
            " 0.28644623 0.92480843 0.02485949 0.55519804 0.63397511 0.1058974\n",
            " 0.1403396  0.41911432 0.96623191 0.59604255 0.93302322 0.80436092\n",
            " 0.4673816  0.78476345 0.01783678 0.109144   0.82942861 0.79681709\n",
            " 0.23264074 0.53076959 0.60601582 0.86773895 0.60310716 0.41257157\n",
            " 0.37418404 0.42588209]\n",
            "angle with constraint is: [ 16.64429029  28.30958556   0.04447117 -21.36614985 -29.16382274\n",
            " -16.2206382  -22.09066693  10.65952042 -22.69004972   0.3797959\n",
            "  11.65574614   4.86699655 -18.0134609   18.24747157  12.92442778\n",
            "  14.33904023 -22.13653491 -22.57477178  25.65375306  -6.14530837\n",
            " -11.94307849  -0.68495728   9.77185277  27.33739542 -12.81322639\n",
            "  25.48850576 -28.50843052   3.31188254   8.0385067  -23.64615577\n",
            " -21.57962418  -4.85314084  27.97391473   5.76255319  25.9813933\n",
            "  18.26165494  -1.95710391  17.08580696 -28.92979296 -23.45136019\n",
            "  19.76571689  17.8090253  -16.04155548   1.84617544   6.36094924\n",
            "  22.06433723   6.18642944  -5.24570584  -7.5489574   -4.44707482]\n",
            "Accuracy after rotation augmentation is  0.6742\n"
          ]
        }
      ]
    },
    {
      "cell_type": "markdown",
      "source": [
        "The angle constraint is a hyperparameter which we have to tune using a validation set. (Here we are not doing that for time constraints). Let us try a grid search to find the best angle constraint."
      ],
      "metadata": {
        "id": "R6vwKYxNnjvS"
      }
    },
    {
      "cell_type": "code",
      "source": [
        "angleconstraints = [0,10,20,30,40,50,60,70,80,90] # the values we want to test\n",
        "accuracies = np.zeros(len(angleconstraints), dtype=np.float) # we will save the values here\n",
        "\n",
        "for ii in range(len(angleconstraints)):\n",
        "  # create the augmented dataset\n",
        "  augdata = train_X # we include the original images also in the augmented dataset\n",
        "  auglabel = train_y\n",
        "  for jj in range(naugmentations):\n",
        "    augdata = np.concatenate((augdata, augRotate(train_X, angleconstraints[ii]))) # concatenate the augmented data to the set\n",
        "    auglabel = np.concatenate((auglabel, train_y))  # the labels don't change when we augment\n",
        "\n",
        "  # check the test accuracy\n",
        "  testpred = NN(augdata, auglabel, test_X)\n",
        "  accuracies[ii] = Accuracy(test_y, testpred)\n",
        "  print('Accuracy after rotation augmentation constrained by ',angleconstraints[ii], ' is ', accuracies[ii], flush=True)"
      ],
      "metadata": {
        "colab": {
          "base_uri": "https://localhost:8080/"
        },
        "id": "2TuE7cTCnZ9g",
        "outputId": "0e745929-1e03-451e-ac94-1393488a2baf"
      },
      "execution_count": null,
      "outputs": [
        {
          "output_type": "stream",
          "name": "stderr",
          "text": [
            "/usr/local/lib/python3.7/dist-packages/ipykernel_launcher.py:2: DeprecationWarning: `np.float` is a deprecated alias for the builtin `float`. To silence this warning, use `float` by itself. Doing this will not modify any behavior and is safe. If you specifically wanted the numpy scalar type, use `np.float64` here.\n",
            "Deprecated in NumPy 1.20; for more details and guidance: https://numpy.org/devdocs/release/1.20.0-notes.html#deprecations\n",
            "  \n"
          ]
        },
        {
          "output_type": "stream",
          "name": "stdout",
          "text": [
            "Accuracy after rotation augmentation constrained by  0  is  0.0892\n",
            "shape of sample before is: (50, 28, 28)\n",
            "len(sample.shape) 3\n",
            "angle is: [0.94562751 0.76831374 0.17156984 0.29220656 0.11769023 0.32324926\n",
            " 0.19359379 0.43836794 0.53687992 0.42745057 0.59105312 0.10355244\n",
            " 0.69151105 0.53833142 0.64392061 0.18029224 0.51820755 0.51268339\n",
            " 0.55547729 0.38019787 0.86266642 0.07980062 0.45142126 0.6050337\n",
            " 0.37272347 0.15805025 0.02552589 0.62774617 0.97645869 0.80890675\n",
            " 0.04686574 0.81383598 0.50523728 0.78819727 0.5678563  0.26172633\n",
            " 0.66681777 0.51911127 0.731059   0.48966448 0.57841961 0.5179993\n",
            " 0.59978708 0.85364453 0.33973648 0.77550828 0.37141114 0.58250032\n",
            " 0.75981711 0.24339649]\n",
            "angle with constraint is: [ 4.45627509  2.68313736 -3.28430157 -2.07793444 -3.82309767 -1.76750743\n",
            " -3.0640621  -0.61632055  0.36879922 -0.7254943   0.91053117 -3.96447555\n",
            "  1.91511046  0.38331417  1.43920608 -3.19707756  0.18207553  0.12683392\n",
            "  0.55477292 -1.19802127  3.62666417 -4.20199384 -0.48578745  1.05033698\n",
            " -1.27276527 -3.41949754 -4.74474106  1.27746169  4.76458692  3.08906751\n",
            " -4.53134259  3.13835984  0.05237277  2.88197268  0.67856296 -2.38273666\n",
            "  1.66817769  0.19111272  2.31058998 -0.10335515  0.78419607  0.17999296\n",
            "  0.99787076  3.53644531 -1.60263519  2.75508283 -1.28588856  0.82500323\n",
            "  2.59817107 -2.56603508]\n",
            "shape of sample before is: (50, 28, 28)\n",
            "len(sample.shape) 3\n",
            "angle is: [0.14683719 0.23515562 0.83269227 0.63919111 0.04827754 0.43576818\n",
            " 0.13849679 0.9831788  0.86219353 0.97140694 0.60859798 0.63621126\n",
            " 0.74777708 0.53742587 0.98673675 0.60785574 0.69346118 0.02355329\n",
            " 0.33862045 0.7589989  0.7807812  0.63054476 0.10622137 0.45701129\n",
            " 0.699195   0.69770107 0.01636903 0.44851321 0.4560623  0.04555008\n",
            " 0.85376344 0.34859692 0.63710873 0.29853891 0.88883951 0.37845085\n",
            " 0.45075127 0.15080052 0.78329517 0.30516671 0.41963272 0.05481588\n",
            " 0.39627927 0.70550158 0.20969594 0.42614366 0.69605381 0.29586603\n",
            " 0.0729108  0.91439901]\n",
            "angle with constraint is: [-3.53162814 -2.64844377  3.32692272  1.39191113 -4.51722461 -0.64231817\n",
            " -3.61503211  4.83178804  3.62193535  4.71406938  1.08597985  1.36211263\n",
            "  2.47777082  0.37425872  4.86736752  1.0785574   1.93461175 -4.76446711\n",
            " -1.61379554  2.58998895  2.807812    1.30544763 -3.93778626 -0.42988712\n",
            "  1.99195002  1.97701074 -4.83630968 -0.5148679  -0.43937705 -4.54449919\n",
            "  3.5376344  -1.51403081  1.37108732 -2.01461086  3.88839508 -1.21549146\n",
            " -0.49248726 -3.49199475  2.83295165 -1.9483329  -0.80367284 -4.45184118\n",
            " -1.03720727  2.0550158  -2.90304059 -0.73856335  1.96053812 -2.0413397\n",
            " -4.27089197  4.14399012]\n",
            "shape of sample before is: (50, 28, 28)\n",
            "len(sample.shape) 3\n",
            "angle is: [0.78799705 0.22297839 0.48060702 0.98079801 0.13148212 0.16553464\n",
            " 0.06831256 0.698211   0.66694731 0.16258697 0.94145368 0.35482263\n",
            " 0.50225144 0.12104208 0.71658867 0.70093559 0.88053792 0.69939532\n",
            " 0.19134341 0.94194425 0.81947462 0.93157649 0.78349451 0.59859088\n",
            " 0.30043525 0.31416272 0.59471131 0.40726133 0.65557361 0.6346153\n",
            " 0.74916478 0.65404911 0.33727353 0.81986836 0.706122   0.26334503\n",
            " 0.95507109 0.34561791 0.55702662 0.86274017 0.28506685 0.975083\n",
            " 0.31045951 0.90580696 0.70690326 0.69947895 0.34455413 0.39893616\n",
            " 0.92225919 0.03154585]\n",
            "angle with constraint is: [ 2.87997049 -2.7702161  -0.19392975  4.8079801  -3.68517881 -3.34465364\n",
            " -4.31687439  1.98210996  1.66947315 -3.37413026  4.41453683 -1.45177367\n",
            "  0.0225144  -3.78957923  2.16588673  2.00935587  3.80537924  1.99395319\n",
            " -3.08656589  4.41944246  3.1947462   4.3157649   2.83494508  0.9859088\n",
            " -1.99564747 -1.85837282  0.94711305 -0.92738666  1.55573614  1.34615296\n",
            "  2.49164779  1.54049106 -1.6272647   3.19868357  2.06122    -2.3665497\n",
            "  4.5507109  -1.54382094  0.57026616  3.62740169 -2.14933153  4.75082998\n",
            " -1.8954049   4.05806959  2.0690326   1.99478953 -1.55445873 -1.01063838\n",
            "  4.22259189 -4.68454151]\n",
            "shape of sample before is: (50, 28, 28)\n",
            "len(sample.shape) 3\n",
            "angle is: [4.42938124e-02 4.72133347e-01 7.32905989e-02 5.74027097e-01\n",
            " 1.50498794e-01 7.04917570e-01 6.61112186e-01 7.42776344e-03\n",
            " 1.46170529e-01 2.34073056e-01 8.05616580e-01 8.25772060e-01\n",
            " 7.83232313e-01 6.51875989e-01 9.41378575e-01 1.11790100e-01\n",
            " 6.44556106e-01 2.96434595e-01 2.42772229e-01 8.08953186e-01\n",
            " 6.14393400e-01 3.32808951e-01 2.06360322e-01 3.31808334e-01\n",
            " 7.68070800e-01 6.87316623e-01 8.62310531e-01 9.28954732e-01\n",
            " 3.07340740e-01 9.56985408e-01 1.62746318e-01 2.44103372e-01\n",
            " 6.31777457e-01 8.10624487e-01 4.57673392e-01 4.51011099e-01\n",
            " 8.02873730e-01 4.29896172e-02 9.50025697e-01 2.74120686e-01\n",
            " 4.74388354e-01 7.09901064e-01 8.00045145e-01 3.98984295e-01\n",
            " 5.53920717e-01 7.78550094e-01 9.68203714e-01 4.75605476e-01\n",
            " 8.66563364e-04 9.39335647e-01]\n",
            "angle with constraint is: [-4.55706188 -0.27866653 -4.26709401  0.74027097 -3.49501206  2.0491757\n",
            "  1.61112186 -4.92572237 -3.53829471 -2.65926944  3.0561658   3.2577206\n",
            "  2.83232313  1.51875989  4.41378575 -3.882099    1.44556106 -2.03565405\n",
            " -2.57227771  3.08953186  1.143934   -1.67191049 -2.93639678 -1.68191666\n",
            "  2.680708    1.87316623  3.62310531  4.28954732 -1.9265926   4.56985408\n",
            " -3.37253682 -2.55896628  1.31777457  3.10624487 -0.42326608 -0.48988901\n",
            "  3.0287373  -4.57010383  4.50025697 -2.25879314 -0.25611646  2.09901064\n",
            "  3.00045145 -1.01015705  0.53920717  2.78550094  4.68203714 -0.24394524\n",
            " -4.99133437  4.39335647]\n",
            "shape of sample before is: (50, 28, 28)\n",
            "len(sample.shape) 3\n",
            "angle is: [0.34733521 0.28094704 0.56557    0.47583251 0.18934435 0.40264068\n",
            " 0.61436497 0.36875397 0.37051348 0.5161267  0.62835001 0.08435229\n",
            " 0.55473916 0.73523149 0.23981983 0.03000339 0.84696115 0.10050297\n",
            " 0.96201088 0.47390147 0.95540873 0.36505773 0.87875097 0.85015899\n",
            " 0.39618024 0.93217389 0.66195747 0.5528257  0.35533863 0.00122255\n",
            " 0.71564476 0.72760957 0.21094615 0.44313481 0.35398664 0.44002002\n",
            " 0.73297531 0.14145755 0.48725418 0.01356751 0.13203947 0.61556577\n",
            " 0.63762179 0.48272513 0.46808052 0.58215584 0.96838626 0.45013646\n",
            " 0.91416299 0.4706475 ]\n",
            "angle with constraint is: [-1.52664786 -2.19052956  0.65569997 -0.24167494 -3.10655646 -0.97359319\n",
            "  1.14364975 -1.31246026 -1.29486521  0.16126703  1.28350007 -4.15647713\n",
            "  0.54739156  2.35231494 -2.60180168 -4.69996612  3.46961146 -3.99497034\n",
            "  4.62010878 -0.26098526  4.55408729 -1.34942274  3.78750968  3.50158989\n",
            " -1.03819758  4.3217389   1.61957468  0.52825698 -1.44661374 -4.98777451\n",
            "  2.15644762  2.27609572 -2.89053849 -0.56865189 -1.46013364 -0.59979985\n",
            "  2.32975305 -3.58542453 -0.12745815 -4.8643249  -3.67960532  1.15565773\n",
            "  1.37621795 -0.17274868 -0.31919478  0.8215584   4.68386264 -0.49863543\n",
            "  4.14162989 -0.29352502]\n",
            "Accuracy after rotation augmentation constrained by  10  is  0.0892\n",
            "shape of sample before is: (50, 28, 28)\n",
            "len(sample.shape) 3\n",
            "angle is: [0.35919704 0.21926777 0.54099604 0.17812305 0.85011614 0.58978001\n",
            " 0.22819023 0.64721641 0.43533057 0.80886786 0.87981337 0.29310437\n",
            " 0.47395995 0.90475645 0.69584801 0.50004043 0.37971998 0.16636292\n",
            " 0.82358103 0.42651071 0.93395626 0.84187232 0.36309388 0.38683188\n",
            " 0.24716514 0.56505147 0.57306115 0.59652266 0.94287624 0.17550662\n",
            " 0.177868   0.09367479 0.55507167 0.36155898 0.76323512 0.26269979\n",
            " 0.58597948 0.31211296 0.53579407 0.00864858 0.64345741 0.05101797\n",
            " 0.10184988 0.32414398 0.08332817 0.23687624 0.96270262 0.88868935\n",
            " 0.05066646 0.28126031]\n",
            "angle with constraint is: [-2.81605919e+00 -5.61464456e+00  8.19920807e-01 -6.43753898e+00\n",
            "  7.00232274e+00  1.79560019e+00 -5.43619543e+00  2.94432827e+00\n",
            " -1.29338855e+00  6.17735724e+00  7.59626737e+00 -4.13791264e+00\n",
            " -5.20800975e-01  8.09512906e+00  3.91696018e+00  8.08601061e-04\n",
            " -2.40560032e+00 -6.67274159e+00  6.47162066e+00 -1.46978581e+00\n",
            "  8.67912523e+00  6.83744632e+00 -2.73812240e+00 -2.26336233e+00\n",
            " -5.05669726e+00  1.30102948e+00  1.46122300e+00  1.93045326e+00\n",
            "  8.85752476e+00 -6.48986751e+00 -6.44263999e+00 -8.12650425e+00\n",
            "  1.10143340e+00 -2.76882043e+00  5.26470241e+00 -4.74600425e+00\n",
            "  1.71958956e+00 -3.75774077e+00  7.15881401e-01 -9.82702841e+00\n",
            "  2.86914826e+00 -8.97964067e+00 -7.96300237e+00 -3.51712038e+00\n",
            " -8.33343665e+00 -5.26247527e+00  9.25405247e+00  7.77378693e+00\n",
            " -8.98667077e+00 -4.37479388e+00]\n",
            "shape of sample before is: (50, 28, 28)\n",
            "len(sample.shape) 3\n",
            "angle is: [0.50920465 0.6723841  0.90949664 0.06618343 0.28488388 0.67770696\n",
            " 0.32413145 0.50172419 0.29950181 0.99184794 0.79801212 0.37063485\n",
            " 0.64213791 0.54579495 0.87563989 0.26267586 0.90242245 0.41506168\n",
            " 0.11980153 0.78095183 0.9978124  0.412778   0.29792852 0.3936438\n",
            " 0.17326576 0.86562026 0.39216958 0.89795363 0.25965799 0.36781277\n",
            " 0.48886975 0.20176706 0.91001861 0.20703867 0.90312101 0.0928674\n",
            " 0.29563361 0.72898352 0.91809996 0.28230066 0.24466553 0.10448179\n",
            " 0.52712808 0.69433889 0.88719346 0.56274297 0.47019276 0.68508267\n",
            " 0.03640076 0.71711789]\n",
            "angle with constraint is: [ 0.18409302  3.44768201  8.18993276 -8.67633147 -4.30232236  3.5541392\n",
            " -3.51737093  0.03448384 -4.00996382  9.83695879  5.96024249 -2.58730309\n",
            "  2.84275822  0.91589897  7.51279772 -4.74648284  8.04844907 -1.69876635\n",
            " -7.60396934  5.61903665  9.95624801 -1.7444401  -4.04142967 -2.12712398\n",
            " -6.5346847   7.31240516 -2.15660843  7.95907264 -4.80684015 -2.64374465\n",
            " -0.22260499 -5.96465887  8.20037228 -5.85922652  8.06242019 -8.14265194\n",
            " -4.08732772  4.57967031  8.36199919 -4.3539868  -5.10668946 -7.91036417\n",
            "  0.54256159  3.88677776  7.74386926  1.25485942 -0.5961449   3.70165346\n",
            " -9.27198484  4.34235778]\n",
            "shape of sample before is: (50, 28, 28)\n",
            "len(sample.shape) 3\n",
            "angle is: [0.99438525 0.91437521 0.14030017 0.38566758 0.79947301 0.29993872\n",
            " 0.86514576 0.31099362 0.58184121 0.87330664 0.90880491 0.36156983\n",
            " 0.70554668 0.78671556 0.79444564 0.48870297 0.40098898 0.9348414\n",
            " 0.89427307 0.21040045 0.21435619 0.87209796 0.52590593 0.39599945\n",
            " 0.03579663 0.02090676 0.09131742 0.17132449 0.04605938 0.98169216\n",
            " 0.03342807 0.57061183 0.39955082 0.88870613 0.66562355 0.49835908\n",
            " 0.35858081 0.93178525 0.53234228 0.96138425 0.23910668 0.16953836\n",
            " 0.68745186 0.25330274 0.25688335 0.98972396 0.85410662 0.45560119\n",
            " 0.91429801 0.3092555 ]\n",
            "angle with constraint is: [ 9.88770508  8.2875042  -7.19399651 -2.28664846  5.98946027 -4.0012256\n",
            "  7.30291529 -3.78012757  1.63682413  7.46613281  8.17609824 -2.76860346\n",
            "  4.1109335   5.73431122  5.88891284 -0.2259405  -1.98022045  8.69682793\n",
            "  7.88546138 -5.79199098 -5.71287624  7.44195914  0.51811857 -2.08001096\n",
            " -9.28406736 -9.5818649  -8.17365159 -6.57351014 -9.07881231  9.63384317\n",
            " -9.33143857  1.41223655 -2.00898359  7.77412264  3.31247105 -0.03281839\n",
            " -2.82838385  8.63570494  0.6468456   9.22768505 -5.21786631 -6.60923282\n",
            "  3.74903716 -4.9339452  -4.86233301  9.79447911  7.08213239 -0.88797629\n",
            "  8.28596019 -3.81489004]\n",
            "shape of sample before is: (50, 28, 28)\n",
            "len(sample.shape) 3\n",
            "angle is: [0.81820416 0.02949253 0.53257292 0.64718462 0.55878751 0.29939642\n",
            " 0.29852912 0.62918823 0.97660616 0.32546229 0.31993231 0.99573936\n",
            " 0.97628575 0.44054451 0.51806802 0.62264438 0.34043618 0.96086254\n",
            " 0.9600326  0.64716571 0.67305321 0.87862886 0.87024689 0.1335198\n",
            " 0.7622157  0.07214748 0.18278297 0.60498002 0.9657517  0.29510428\n",
            " 0.73452064 0.65870248 0.12344157 0.74294935 0.47588439 0.49069891\n",
            " 0.35758083 0.89480054 0.00924413 0.03184095 0.02949886 0.34073805\n",
            " 0.69936312 0.95927695 0.69206721 0.20300668 0.32428926 0.48564757\n",
            " 0.90679466 0.80300077]\n",
            "angle with constraint is: [ 6.36408312 -9.41014944  0.65145833  2.94369246  1.17575019 -4.01207151\n",
            " -4.02941759  2.58376467  9.53212317 -3.49075422 -3.60135389  9.91478716\n",
            "  9.52571496 -1.18910972  0.36136039  2.45288759 -3.19127632  9.21725086\n",
            "  9.20065196  2.94331428  3.46106426  7.57257728  7.40493781 -7.32960403\n",
            "  5.24431398 -8.55705043 -6.34434058  2.0996004   9.31503407 -4.09791438\n",
            "  4.69041285  3.17404956 -7.53116863  4.85898697 -0.48231222 -0.18602188\n",
            " -2.84838334  7.89601074 -9.81511738 -9.36318104 -9.41002286 -3.18523893\n",
            "  3.98726237  9.18553896  3.84134426 -5.93986649 -3.51421486 -0.28704869\n",
            "  8.13589329  6.06001533]\n",
            "shape of sample before is: (50, 28, 28)\n",
            "len(sample.shape) 3\n",
            "angle is: [0.19706205 0.36819852 0.48863585 0.24548014 0.35805269 0.3943172\n",
            " 0.58015181 0.64676301 0.02675944 0.46559536 0.83671987 0.03980232\n",
            " 0.34420297 0.5471444  0.54782124 0.30226575 0.82975836 0.18184364\n",
            " 0.83913277 0.81643172 0.01140042 0.04021501 0.04441828 0.40275669\n",
            " 0.14568683 0.87435924 0.98084367 0.81208408 0.67582035 0.48744243\n",
            " 0.80421766 0.96263539 0.5606667  0.13681808 0.62359338 0.86593794\n",
            " 0.15776525 0.1411019  0.59750886 0.89687174 0.74415952 0.93648573\n",
            " 0.20004165 0.35674699 0.20129028 0.60235452 0.30907774 0.17870299\n",
            " 0.34910701 0.41605509]\n",
            "angle with constraint is: [-6.05875899 -2.63602953 -0.22728307 -5.09039716 -2.83894628 -2.11365596\n",
            "  1.60303625  2.93526022 -9.46481123 -0.68809281  6.7343974  -9.2039535\n",
            " -3.11594051  0.94288807  0.95642482 -3.95468498  6.59516719 -6.36312718\n",
            "  6.78265548  6.32863446 -9.77199153 -9.19569983 -9.11163434 -1.94486618\n",
            " -7.0862635   7.48718487  9.61687343  6.24168153  3.516407   -0.25115138\n",
            "  6.08435311  9.25270777  1.21333392 -7.26363836  2.47186763  7.31875877\n",
            " -6.84469493 -7.17796201  1.95017716  7.9374347   4.88319034  8.72971455\n",
            " -5.99916697 -2.86506025 -5.97419439  2.04709049 -3.8184453  -6.42594023\n",
            " -3.01785978 -1.67889811]\n",
            "Accuracy after rotation augmentation constrained by  20  is  0.0892\n",
            "shape of sample before is: (50, 28, 28)\n",
            "len(sample.shape) 3\n",
            "angle is: [0.45120323 0.81755765 0.87384279 0.05134752 0.94185987 0.17412269\n",
            " 0.3998222  0.75044337 0.69703074 0.26060938 0.11174559 0.53083528\n",
            " 0.11476212 0.51017419 0.22918621 0.94541292 0.32456537 0.70344962\n",
            " 0.14295467 0.92874019 0.67049324 0.43995776 0.11157192 0.51244723\n",
            " 0.02890869 0.57550961 0.71878513 0.57483881 0.83191076 0.58233571\n",
            " 0.28359508 0.58864516 0.29240201 0.09254049 0.27328755 0.52839711\n",
            " 0.77835868 0.52146096 0.41483447 0.41314549 0.19753371 0.80064806\n",
            " 0.17905039 0.085003   0.30295367 0.30705524 0.74284833 0.49678884\n",
            " 0.73606052 0.8089922 ]\n",
            "angle with constraint is: [ -1.46390315   9.52672956  11.21528366 -13.45957451  13.25579595\n",
            "  -9.7763194   -3.00533387   7.51330118   5.91092233  -7.18171849\n",
            " -11.64763225   0.92505852 -11.55713644   0.30522574  -8.12441367\n",
            "  13.36238749  -5.26303876   6.10348853 -10.71135989  12.86220576\n",
            "   5.11479716  -1.80126718 -11.6528425    0.37341693 -14.13273934\n",
            "   2.26528818   6.56355403   2.24516438   9.95732286   2.47007126\n",
            "  -6.49214774   2.65935475  -6.22793983 -12.22378545  -6.80137359\n",
            "   0.85191342   8.35076031   0.64382883  -2.55496584  -2.60563526\n",
            "  -9.07398863   9.01944185  -9.62848834 -12.44991002  -5.91138977\n",
            "  -5.78834268   7.28544997  -0.09633468   7.0818155    9.26976602]\n",
            "shape of sample before is: (50, 28, 28)\n",
            "len(sample.shape) 3\n",
            "angle is: [0.27977564 0.30659658 0.13018318 0.68590576 0.04743673 0.00539991\n",
            " 0.99052486 0.47457362 0.68892033 0.15921524 0.07438755 0.71191089\n",
            " 0.87886403 0.76078652 0.17844693 0.58081929 0.53009411 0.53995212\n",
            " 0.35824667 0.26315644 0.18567558 0.45287536 0.93055971 0.38698695\n",
            " 0.66144032 0.87697282 0.22853583 0.92706995 0.91026278 0.20044281\n",
            " 0.34173419 0.14979502 0.7649643  0.73839061 0.1207723  0.92892033\n",
            " 0.22677224 0.92068609 0.47653409 0.80096658 0.85561106 0.50068376\n",
            " 0.35722792 0.07988524 0.90225102 0.93270723 0.68947885 0.38287741\n",
            " 0.19536692 0.89353261]\n",
            "angle with constraint is: [ -6.60673087  -5.80210248 -11.09450471   5.57717271 -13.57689811\n",
            " -14.83800275  14.71574569  -0.76279139   5.6676098  -10.22354289\n",
            " -12.76837346   6.35732669  11.36592076   7.82359567  -9.64659223\n",
            "   2.42457875   0.90282336   1.19856358  -4.25259991  -7.10530693\n",
            "  -9.42973249  -1.41373926  12.91679136  -3.39039147   4.84320946\n",
            "  11.3091846   -8.14392516  12.81209864  12.30788338  -8.98671582\n",
            "  -4.74797433 -10.50614926   7.94892904   7.15171835 -11.37683101\n",
            "  12.8676098   -8.19683267  12.62058274  -0.70397723   9.02899727\n",
            "  10.66833179   0.02051281  -4.28316239 -12.60344281  12.06753072\n",
            "  12.98121688   5.68436544  -3.51367774  -9.13899243  11.80597826]\n",
            "shape of sample before is: (50, 28, 28)\n",
            "len(sample.shape) 3\n",
            "angle is: [0.43006771 0.5048058  0.64230358 0.98686735 0.09951467 0.80806097\n",
            " 0.43280742 0.9176294  0.06582265 0.33695509 0.36984154 0.65732551\n",
            " 0.38629801 0.34171853 0.20190235 0.41814625 0.78093706 0.78166213\n",
            " 0.59902087 0.16232299 0.85166874 0.63530335 0.98049425 0.14082916\n",
            " 0.37340325 0.23462632 0.21379497 0.11439412 0.44308135 0.50680026\n",
            " 0.61580993 0.93146748 0.46876376 0.2512477  0.12634335 0.33494822\n",
            " 0.06489505 0.83894045 0.25315553 0.35718875 0.30617405 0.3536258\n",
            " 0.06915902 0.2805011  0.5202221  0.12278468 0.60376386 0.7811433\n",
            " 0.23744739 0.19257591]\n",
            "angle with constraint is: [ -2.09796865   0.14417406   4.26910732  14.60602058 -12.01455993\n",
            "   9.24182917  -2.01577746  12.52888208 -13.02532052  -4.89134726\n",
            "  -3.90475371   4.71976517  -3.41105969  -4.74844399  -8.94292949\n",
            "  -2.45561255   8.4281117    8.449864     2.97062609 -10.13031021\n",
            "  10.55006222   4.05910043  14.41482765 -10.77512521  -3.79790253\n",
            "  -7.96121026  -8.58615095 -11.56817651  -1.70755946   0.20400772\n",
            "   3.47429787  12.94402441  -0.93708719  -7.4625691  -11.20969937\n",
            "  -4.95155339 -13.0531486   10.16821338  -7.40533418  -4.28433764\n",
            "  -5.8147785   -4.39122591 -12.92522942  -6.58496702   0.60666301\n",
            " -11.31645947   3.11291574   8.43429894  -7.87657818  -9.22272272]\n",
            "shape of sample before is: (50, 28, 28)\n",
            "len(sample.shape) 3\n",
            "angle is: [0.95944179 0.06754332 0.05852469 0.56117145 0.78479058 0.54556292\n",
            " 0.12195685 0.44455809 0.93963727 0.72021731 0.68337247 0.93094068\n",
            " 0.31046575 0.45144209 0.94269397 0.51315223 0.25702596 0.29347624\n",
            " 0.71422616 0.16871744 0.4143417  0.26810779 0.02476248 0.0439422\n",
            " 0.04281329 0.07744774 0.54042268 0.71611948 0.17378658 0.10951183\n",
            " 0.88707013 0.94800874 0.76093191 0.51498957 0.69112937 0.40717916\n",
            " 0.4593821  0.18216174 0.98313679 0.68083902 0.63879846 0.89659442\n",
            " 0.3365462  0.81704437 0.6520234  0.60722657 0.17084446 0.23298036\n",
            " 0.56543257 0.91998934]\n",
            "angle with constraint is: [ 13.78325363 -12.97370031 -13.24425934   1.83514355   8.54371733\n",
            "   1.36688767 -11.34129451  -1.66325743  13.18911804   6.60651941\n",
            "   5.50117397  12.92822027  -5.68602735  -1.45673725  13.28081903\n",
            "   0.39456705  -7.28922128  -6.1957129    6.42678482  -9.93847676\n",
            "  -2.56974903  -6.95676629 -14.25712559 -13.68173402 -13.71560125\n",
            " -12.6765679    1.21268027   6.48358435  -9.78640257 -11.71464511\n",
            "  11.61210385  13.44026211   7.82795718   0.44968721   5.73388117\n",
            "  -2.78462516  -1.21853695  -9.5351478   14.49410383   5.4251705\n",
            "   4.16395384  11.89783248  -4.90361415   9.51133096   4.56070204\n",
            "   3.21679703  -9.87466617  -8.01058911   1.96297696  12.59968024]\n",
            "shape of sample before is: (50, 28, 28)\n",
            "len(sample.shape) 3\n",
            "angle is: [0.54456138 0.25387921 0.45745275 0.27446654 0.80929506 0.9345956\n",
            " 0.08101123 0.40958707 0.47773831 0.95062351 0.04068805 0.87548479\n",
            " 0.71479285 0.34372503 0.12483882 0.38743161 0.46421857 0.37883412\n",
            " 0.89975825 0.02709069 0.37183805 0.57501241 0.9189495  0.38499574\n",
            " 0.52059309 0.78043212 0.33709767 0.86590286 0.58876738 0.83765528\n",
            " 0.7125716  0.73189856 0.66385275 0.2587581  0.78212857 0.4985391\n",
            " 0.89277637 0.54993989 0.69502553 0.41374471 0.50653341 0.52609219\n",
            " 0.14716286 0.18591432 0.74231716 0.38171856 0.0078785  0.9642549\n",
            " 0.62754017 0.94080363]\n",
            "angle with constraint is: [  1.33684137  -7.38362364  -1.27641742  -6.76600369   9.27885168\n",
            "  13.03786802 -12.56966314  -2.71238803  -0.66785059  13.51870539\n",
            " -13.77935835  11.26454382   6.44378542  -4.68824914 -11.25483548\n",
            "  -3.37705163  -1.07344277  -3.63497641  11.99274756 -14.18727932\n",
            "  -3.84485848   2.25037233  12.56848488  -3.45012784   0.61779285\n",
            "   8.41296361  -4.8870698   10.97708571   2.66302133  10.12965851\n",
            "   6.3771481    6.95695672   4.9155824   -7.23725696   8.46385698\n",
            "  -0.04382693  11.78329106   1.49819677   5.85076577  -2.58765875\n",
            "   0.19600217   0.78276578 -10.58511417  -9.42257053   7.26951485\n",
            "  -3.54844313 -14.76364493  13.92764707   3.82620512  13.22410902]\n",
            "Accuracy after rotation augmentation constrained by  30  is  0.0892\n",
            "shape of sample before is: (50, 28, 28)\n",
            "len(sample.shape) 3\n",
            "angle is: [0.30582822 0.63389627 0.09818842 0.55596477 0.04503438 0.63633881\n",
            " 0.05148379 0.46435743 0.04704082 0.54723025 0.70523821 0.65434693\n",
            " 0.35695053 0.53511937 0.40645555 0.27578869 0.98478968 0.17465359\n",
            " 0.98016614 0.31097504 0.24438626 0.67409199 0.25624825 0.93953109\n",
            " 0.85436371 0.4057619  0.77082981 0.1015847  0.43787557 0.283599\n",
            " 0.74972548 0.7687382  0.19608675 0.47921798 0.30249002 0.20123412\n",
            " 0.5863576  0.16943003 0.08431081 0.94514005 0.1099119  0.20215742\n",
            " 0.19520786 0.93026669 0.36987701 0.06965222 0.75381715 0.18114586\n",
            " 0.96480287 0.81331647]\n",
            "angle with constraint is: [ -7.76687128   5.35585066 -16.07246323   2.23859078 -18.19862469\n",
            "   5.45355228 -17.94064849  -1.42570293 -18.11836714   1.88921001\n",
            "   8.20952854   6.17387713  -5.72197895   1.40477497  -3.74177811\n",
            "  -8.96845233  19.39158709 -13.01385624  19.20664565  -7.56099857\n",
            " -10.22454966   6.96367949  -9.75006983  17.58124369  14.17454846\n",
            "  -3.76952382  10.83319253 -15.93661203  -2.48497723  -8.6560402\n",
            "   9.98901917  10.74952803 -12.15652986  -0.83128089  -7.90039931\n",
            " -11.95063524   3.45430391 -13.22279879 -16.62756761  17.80560198\n",
            " -15.60352388 -11.91370307 -12.19168542  17.21066779  -5.20491949\n",
            " -17.21391125  10.15268589 -12.75416577  18.59211468  12.53265888]\n",
            "shape of sample before is: (50, 28, 28)\n",
            "len(sample.shape) 3\n",
            "angle is: [0.8904264  0.95753751 0.63668098 0.43864792 0.11425092 0.79690622\n",
            " 0.29021272 0.91125791 0.40543141 0.45271793 0.28988804 0.1890493\n",
            " 0.19862471 0.83270756 0.44453982 0.03618322 0.28366808 0.10683043\n",
            " 0.33852319 0.90192756 0.81968079 0.61685304 0.45940115 0.49544768\n",
            " 0.31193079 0.09688594 0.93191583 0.32799866 0.85684962 0.51481106\n",
            " 0.14535554 0.13167075 0.52283591 0.72630065 0.41990127 0.78182137\n",
            " 0.10887089 0.81041938 0.03350793 0.59708167 0.89513228 0.16607773\n",
            " 0.22518402 0.91209938 0.03275448 0.52996495 0.77866207 0.55181454\n",
            " 0.2077628  0.32281826]\n",
            "angle with constraint is: [ 15.61705603  18.30150047   5.46723938  -2.45408307 -15.42996326\n",
            "  11.87624878  -8.39149135  16.45031626  -3.78274375  -1.89128279\n",
            "  -8.40447823 -12.43802789 -12.05501167  13.30830253  -2.21840735\n",
            " -18.55267118  -8.65327695 -15.72678265  -6.45907226  16.07710254\n",
            "  12.78723144   4.67412174  -1.62395413  -0.18209268  -7.52276847\n",
            " -16.12456246  17.27663335  -6.88005349  14.27398462   0.59244259\n",
            " -14.18577854 -14.73316987   0.91343626   9.0520261   -3.20394935\n",
            "  11.27285496 -15.64516448  12.41677519 -18.65968286   3.88326666\n",
            "  15.80529106 -13.35689085 -10.99263926  16.48397508 -18.68982094\n",
            "   1.19859807  11.14648275   2.07258153 -11.68948812  -7.08726946]\n",
            "shape of sample before is: (50, 28, 28)\n",
            "len(sample.shape) 3\n",
            "angle is: [0.51716598 0.86319053 0.89316314 0.8135857  0.34808083 0.68781179\n",
            " 0.39827717 0.42464878 0.97980656 0.37632449 0.71046223 0.8307566\n",
            " 0.93308052 0.79501907 0.10799125 0.22164869 0.82637353 0.57182931\n",
            " 0.27566956 0.4909147  0.31607821 0.42570215 0.70902729 0.03303629\n",
            " 0.66911425 0.9765159  0.22342759 0.58707635 0.0683846  0.8322864\n",
            " 0.25169816 0.87706188 0.08056004 0.9732899  0.1091594  0.35142573\n",
            " 0.74887474 0.74596697 0.09393651 0.10416551 0.2533064  0.12292612\n",
            " 0.93753694 0.61914604 0.54597889 0.28508332 0.21678525 0.84192681\n",
            " 0.74678928 0.54796621]\n",
            "angle with constraint is: [  0.68663932  14.5276214   15.72652559  12.54342781  -6.07676689\n",
            "   7.5124717   -4.06891319  -3.0140488   19.19226248  -4.94702032\n",
            "   8.41848924  13.23026387  17.32322067  11.80076298 -15.68035009\n",
            " -11.13405235  13.05494121   2.87317238  -8.97321779  -0.36341193\n",
            "  -7.35687145  -2.97191383   8.36109149 -18.67854846   6.76456988\n",
            "  19.06063611 -11.06289624   3.48305396 -17.26461598  13.29145584\n",
            "  -9.93207366  15.08247507 -16.77759855  18.93159611 -15.63362399\n",
            "  -5.94297067   9.95498954   9.8386786  -16.24253964 -15.8333795\n",
            "  -9.86774386 -15.08295506  17.50147777   4.76584168   1.83915552\n",
            "  -8.59666723 -11.32859003  13.6770724    9.87157134   1.91864838]\n",
            "shape of sample before is: (50, 28, 28)\n",
            "len(sample.shape) 3\n",
            "angle is: [0.04268585 0.4449629  0.35302303 0.65237691 0.07609974 0.56269015\n",
            " 0.35122922 0.20933629 0.16805881 0.07114517 0.52361097 0.96848308\n",
            " 0.97083697 0.47164096 0.38441017 0.97681249 0.35457833 0.49654333\n",
            " 0.89761466 0.2021866  0.62066357 0.72062038 0.43174764 0.99565495\n",
            " 0.38430725 0.31666318 0.10765008 0.27202015 0.88461053 0.76925539\n",
            " 0.73605598 0.23763543 0.35349415 0.99676437 0.83301512 0.44960861\n",
            " 0.51030797 0.48850554 0.05632088 0.29989333 0.91196154 0.11328141\n",
            " 0.41489551 0.6047584  0.5760911  0.53613493 0.74819617 0.41379673\n",
            " 0.75720769 0.65878902]\n",
            "angle with constraint is: [-18.29256587  -2.20148387  -5.87907862   6.09507645 -16.95601055\n",
            "   2.50760592  -5.95083101 -11.62654842 -13.27764778 -17.15419311\n",
            "   0.94443871  18.73932323  18.83347879  -1.13436165  -4.62359327\n",
            "  19.07249941  -5.81686694  -0.13826688  15.90458625 -11.91253619\n",
            "   4.82654279   8.82481527  -2.73009432  19.826198    -4.62770983\n",
            "  -7.33347297 -15.69399663  -9.1191941   15.38442118  10.77021542\n",
            "   9.44223912 -10.49458262  -5.86023413  19.87057471  13.32060498\n",
            "  -2.0156557    0.41231877  -0.45977823 -17.74716476  -8.0042668\n",
            "  16.47846158 -15.46874379  -3.40417952   4.19033591   3.04364393\n",
            "   1.44539733   9.92784692  -3.44813099  10.28830748   6.3515608 ]\n",
            "shape of sample before is: (50, 28, 28)\n",
            "len(sample.shape) 3\n",
            "angle is: [0.30329054 0.81201871 0.25643579 0.88468981 0.91796191 0.21820316\n",
            " 0.60326244 0.99765905 0.99957595 0.53746699 0.94895389 0.83122079\n",
            " 0.54113402 0.78342514 0.0564621  0.59618046 0.39797741 0.93483123\n",
            " 0.05502563 0.41284148 0.60661339 0.02029831 0.72828937 0.84323132\n",
            " 0.21964307 0.59275158 0.68221206 0.35449151 0.9495778  0.59971881\n",
            " 0.73473152 0.30711319 0.14591475 0.1038795  0.70628426 0.29140396\n",
            " 0.72517817 0.52497405 0.97972166 0.54843103 0.28284546 0.33539388\n",
            " 0.68338992 0.91925785 0.13222551 0.5878719  0.8478694  0.83719087\n",
            " 0.28113866 0.44194318]\n",
            "angle with constraint is: [ -7.86837842  12.48074851  -9.74256836  15.38759253  16.71847629\n",
            " -11.27187355   4.13049754  19.90636199  19.98303816   1.49867952\n",
            "  17.95815549  13.24883154   1.6453608   11.33700562 -17.7415161\n",
            "   3.84721838  -4.08090342  17.39324939 -17.79897497  -3.48634095\n",
            "   4.2645355  -19.18806779   9.13157475  13.7292527  -11.21427731\n",
            "   3.71006328   7.28848254  -5.82033956  17.98311211   3.98875238\n",
            "   9.38926068  -7.71547236 -14.16341013 -15.8448199    8.25137034\n",
            "  -8.34384168   9.00712693   0.99896198  19.18886658   1.93724131\n",
            "  -8.68618171  -6.58424496   7.33559678  16.77031383 -14.7109797\n",
            "   3.51487612  13.91477602  13.48763465  -8.75445346  -2.3222729 ]\n",
            "Accuracy after rotation augmentation constrained by  40  is  0.0892\n",
            "shape of sample before is: (50, 28, 28)\n",
            "len(sample.shape) 3\n",
            "angle is: [0.97634234 0.59837545 0.71548959 0.68083192 0.46355406 0.64431623\n",
            " 0.19579472 0.27764239 0.61337764 0.06912458 0.28397896 0.06921688\n",
            " 0.8651798  0.62208614 0.53273608 0.85282585 0.41895107 0.67530551\n",
            " 0.13956345 0.98773984 0.3766679  0.34331214 0.76678964 0.06735392\n",
            " 0.43607628 0.76013697 0.63361053 0.8993102  0.0420972  0.61209715\n",
            " 0.07532421 0.99691013 0.34553356 0.19944155 0.70866333 0.84333265\n",
            " 0.23378079 0.41696345 0.83250024 0.55113663 0.47872273 0.15239597\n",
            " 0.25386703 0.03843541 0.04902214 0.24031503 0.26457005 0.42526373\n",
            " 0.12367344 0.54739693]\n",
            "angle with constraint is: [ 23.81711696   4.9187727   10.77447936   9.04159577  -1.82229714\n",
            "   7.21581132 -15.21026385 -11.11788057   5.66888225 -21.543771\n",
            " -10.80105191 -21.53915606  18.25898992   6.10430684   1.63680391\n",
            "  17.64129272  -4.05244669   8.7652756  -18.02182733  24.38699201\n",
            "  -6.16660484  -7.83439319  13.33948194 -21.63230398  -3.19618611\n",
            "  13.00684829   6.68052674  19.96550992 -22.89514009   5.60485756\n",
            " -21.23378962  24.84550637  -7.72332199 -15.02792228  10.43316635\n",
            "  17.1666326  -13.31096054  -4.15182752  16.6250119    2.55683165\n",
            "  -1.0638634  -17.38020138 -12.3066484  -23.07822933 -22.54889309\n",
            " -12.98424833 -11.7714974   -3.73681336 -18.8163278    2.36984645]\n",
            "shape of sample before is: (50, 28, 28)\n",
            "len(sample.shape) 3\n",
            "angle is: [0.35121601 0.067465   0.43302484 0.49621538 0.24084337 0.12786865\n",
            " 0.91259909 0.1865391  0.73773392 0.12405531 0.27667799 0.15427623\n",
            " 0.76259911 0.0623119  0.5806087  0.52528547 0.23258175 0.64239474\n",
            " 0.2164825  0.01340257 0.12562113 0.32562764 0.32357252 0.41821522\n",
            " 0.95761341 0.88531815 0.75671216 0.79729157 0.36849004 0.74995544\n",
            " 0.59292878 0.47813376 0.34171632 0.66611449 0.39887813 0.77295754\n",
            " 0.10321197 0.7560971  0.39765551 0.49375026 0.20757574 0.03720131\n",
            " 0.04692802 0.99589502 0.80845087 0.09289353 0.27642821 0.85210244\n",
            " 0.09209593 0.57562202]\n",
            "angle with constraint is: [ -7.43919963 -21.6267498   -3.34875815  -0.18923098 -12.95783139\n",
            " -18.60656733  20.62995465 -15.67304511  11.88669596 -18.79723435\n",
            " -11.16610058 -17.28618867  13.12995545 -21.88440523   4.03043476\n",
            "   1.26427359 -13.37091236   7.11973721 -14.17587492 -24.32987137\n",
            " -18.71894341  -8.71861812  -8.821374    -4.08923884  22.88067048\n",
            "  19.26590767  12.83560786  14.86457867  -6.57549815  12.49777217\n",
            "   4.64643921  -1.09331209  -7.91418376   8.30572429  -5.05609337\n",
            "  13.64787696 -19.83940174  12.80485492  -5.11722472  -0.31248675\n",
            " -14.62121279 -23.1399346  -22.65359919  24.79475115  15.42254337\n",
            " -20.3553235  -11.17858928  17.605122   -20.39520352   3.78110103]\n",
            "shape of sample before is: (50, 28, 28)\n",
            "len(sample.shape) 3\n",
            "angle is: [0.0798096  0.66597449 0.55220835 0.69892073 0.44734855 0.57593712\n",
            " 0.41375913 0.20857014 0.54579302 0.73740052 0.3847079  0.8085491\n",
            " 0.92137728 0.08077447 0.24564963 0.25916579 0.02446196 0.10557943\n",
            " 0.24869742 0.08325705 0.87926927 0.9191754  0.36612326 0.07802714\n",
            " 0.69484653 0.88806132 0.69474304 0.73538162 0.90814346 0.71007295\n",
            " 0.16430262 0.24522887 0.62587284 0.0574386  0.81029607 0.59513632\n",
            " 0.2684717  0.64920251 0.32594763 0.4959282  0.51478641 0.28974103\n",
            " 0.77822819 0.52071445 0.08533971 0.19181072 0.98511572 0.23627578\n",
            " 0.77532595 0.26960351]\n",
            "angle with constraint is: [-21.00952      8.29872466   2.61041731   9.94603639  -2.63257271\n",
            "   3.79685617  -4.31204327 -14.5714929    2.28965087  11.87002577\n",
            "  -5.76460487  15.42745504  21.06886383 -20.96127633 -12.71751828\n",
            " -12.04171061 -23.77690201 -19.72102837 -12.56512911 -20.83714771\n",
            "  18.96346326  20.95876995  -6.6938368  -21.09864304   9.74232654\n",
            "  19.40306593   9.73715205  11.76908092  20.40717278  10.50364764\n",
            " -16.78486878 -12.73855637   6.29364215 -22.12807     15.5148033\n",
            "   4.7568158  -11.57641509   7.46012565  -8.70261854  -0.2035899\n",
            "   0.73932071 -10.51294867  13.91140973   1.03572267 -20.73301431\n",
            " -15.40946391  24.25578586 -13.1862109   13.76629754 -11.51982439]\n",
            "shape of sample before is: (50, 28, 28)\n",
            "len(sample.shape) 3\n",
            "angle is: [0.51313017 0.50563579 0.46892419 0.69946317 0.94068513 0.59514854\n",
            " 0.21070674 0.40936341 0.05407958 0.05026894 0.38862304 0.35651307\n",
            " 0.76078598 0.21683121 0.81153614 0.19803245 0.73989796 0.93242666\n",
            " 0.83636881 0.1978156  0.66803386 0.03930646 0.31915735 0.08395822\n",
            " 0.75730926 0.01014401 0.36211982 0.87581018 0.07824571 0.58244837\n",
            " 0.52634954 0.06977476 0.27778532 0.09853314 0.8702092  0.43105701\n",
            " 0.5066143  0.64207321 0.63772839 0.60237311 0.8595093  0.87694575\n",
            " 0.08604677 0.28070279 0.59765469 0.76968045 0.96386158 0.1228471\n",
            " 0.35079141 0.03805142]\n",
            "angle with constraint is: [  0.65650866   0.28178931  -1.55379051   9.97315827  22.03425627\n",
            "   4.75742679 -14.46466322  -4.5318294  -22.29602109 -22.48655314\n",
            "  -5.56884776  -7.17434652  13.03929889 -14.15843938  15.57680705\n",
            " -15.0983777   11.99489811  21.6213328   16.81844051 -15.10922023\n",
            "   8.40169322 -23.03467702  -9.04213269 -20.8020891   12.86546305\n",
            " -24.49279928  -6.89400885  18.79050888 -21.08771446   4.12241826\n",
            "   1.31747698 -21.51126189 -11.11073377 -20.07334305  18.51045996\n",
            "  -3.44714959   0.33071512   7.10366057   6.88641948   5.11865573\n",
            "  17.97546509  18.84728763 -20.69766139 -10.96486026   4.88273426\n",
            "  13.48402248  23.19307881 -18.85764518  -7.4604294  -23.097429  ]\n",
            "shape of sample before is: (50, 28, 28)\n",
            "len(sample.shape) 3\n",
            "angle is: [0.35321179 0.75345543 0.11109005 0.67028769 0.14127419 0.0047147\n",
            " 0.83516757 0.25302046 0.44648948 0.39995501 0.63988083 0.32010454\n",
            " 0.03757853 0.1175155  0.83951142 0.92279419 0.26735372 0.12771294\n",
            " 0.07315563 0.38667918 0.97169923 0.30228628 0.22025497 0.17899998\n",
            " 0.1993744  0.53386583 0.1286789  0.69828542 0.37856456 0.87646449\n",
            " 0.83324397 0.58802723 0.1948123  0.99076321 0.33239182 0.69994413\n",
            " 0.93377673 0.75625955 0.80133957 0.23425961 0.30092374 0.98307678\n",
            " 0.29361649 0.75382282 0.15856007 0.75321302 0.67454581 0.69749751\n",
            " 0.33146069 0.71836519]\n",
            "angle with constraint is: [ -7.33941057  12.67277166 -19.4454975    8.51438461 -17.93629037\n",
            " -24.76426476  16.75837872 -12.34897718  -2.67552615  -5.0022495\n",
            "   6.99404152  -8.99477309 -23.1210737  -19.12422482  16.97557083\n",
            "  21.13970975 -11.63231412 -18.61435301 -21.34221855  -5.66604093\n",
            "  23.58496129  -9.88568609 -13.98725171 -16.05000108 -15.03127998\n",
            "   1.69329152 -18.56605508   9.91427079  -6.07177191  18.82322458\n",
            "  16.66219869   4.40136165 -15.2593848   24.53816038  -8.3804089\n",
            "   9.99720663  21.68883674  12.81297729  15.06697873 -13.28701954\n",
            "  -9.95381289  24.1538389  -10.31917553  12.69114078 -17.07199631\n",
            "  12.66065103   8.72729049   9.87487541  -8.42696562  10.91825965]\n",
            "Accuracy after rotation augmentation constrained by  50  is  0.0892\n",
            "shape of sample before is: (50, 28, 28)\n",
            "len(sample.shape) 3\n",
            "angle is: [0.17293437 0.13771013 0.11429117 0.53560575 0.0349891  0.88535586\n",
            " 0.81983195 0.83864125 0.08350287 0.56344954 0.9687112  0.89750648\n",
            " 0.44683632 0.07313214 0.19461185 0.50922273 0.62168377 0.83519136\n",
            " 0.70325475 0.87021834 0.47807971 0.38482513 0.87885372 0.13568899\n",
            " 0.32550991 0.87102613 0.61599561 0.94576047 0.27013655 0.1025533\n",
            " 0.52120125 0.24998561 0.73636832 0.41705548 0.2738991  0.68355321\n",
            " 0.21291992 0.5928658  0.4504076  0.36233627 0.35131353 0.18982848\n",
            " 0.90809429 0.92826504 0.32781739 0.14545857 0.10160459 0.46254626\n",
            " 0.81306369 0.75090006]\n",
            "angle with constraint is: [-19.62393774 -21.73739199 -23.14252978   2.13634515 -27.90065408\n",
            "  23.12135151  19.18991701  20.31847523 -24.98982797   3.80697214\n",
            "  28.12267206  23.8503887   -3.18982107 -25.6120715  -18.32328872\n",
            "   0.55336365   7.30102633  20.11148132  12.19528523  22.21310038\n",
            "  -1.31521744  -6.91049222  22.7312234  -21.85866049 -10.46940545\n",
            "  22.2615676    6.95973665  26.74562842 -13.791807   -23.84680194\n",
            "   1.27207474 -15.00086313  14.18209926  -4.97667117 -13.56605386\n",
            "  11.01319266 -17.22480471   5.57194816  -2.97554418  -8.25982373\n",
            "  -8.92118808 -18.61029144  24.48565746  25.6959024  -10.3309564\n",
            " -21.27248567 -23.90372486  -2.24722424  18.78382121  15.05400336]\n",
            "shape of sample before is: (50, 28, 28)\n",
            "len(sample.shape) 3\n",
            "angle is: [0.30971336 0.26194866 0.71298101 0.4401629  0.6043623  0.94364369\n",
            " 0.35018191 0.45933864 0.31071615 0.63723799 0.50059648 0.70207702\n",
            " 0.97458902 0.64769151 0.71110106 0.35499826 0.75564929 0.69468358\n",
            " 0.08415265 0.76802864 0.75326012 0.50299387 0.20384593 0.56388148\n",
            " 0.8598824  0.11987947 0.39326009 0.45119044 0.99311128 0.78684044\n",
            " 0.71748389 0.51314018 0.03326951 0.43103493 0.43158347 0.53441395\n",
            " 0.40563063 0.50521682 0.62471737 0.8079559  0.80184747 0.12734135\n",
            " 0.4007831  0.45520009 0.17230323 0.47868433 0.72052821 0.06840257\n",
            " 0.42634488 0.2679745 ]\n",
            "angle with constraint is: [-11.41719839 -14.28308052  12.77886077  -3.59022579   6.26173813\n",
            "  26.61862123  -8.98908517  -2.43968163 -11.35703107   8.23427918\n",
            "   0.03578852  12.1246209   28.47534125   8.86149032  12.6660637\n",
            "  -8.70010417  15.33895716  11.68101487 -24.95084093  16.08171836\n",
            "  15.19560743   0.17963247 -17.76924423   3.83288856  21.59294417\n",
            " -22.80723199  -6.40439434  -2.92857386  29.58667662  17.21042611\n",
            "  13.04903325   0.78841106 -28.00382943  -4.13790406  -4.10499179\n",
            "   2.06483706  -5.662162     0.31300947   7.48304219  18.47735376\n",
            "  18.11084824 -22.35951905  -5.95301393  -2.68799455 -19.66180607\n",
            "  -1.27894006  13.23169269 -25.89584565  -4.4193071  -13.92153005]\n",
            "shape of sample before is: (50, 28, 28)\n",
            "len(sample.shape) 3\n",
            "angle is: [0.34636156 0.77916241 0.78526683 0.36332197 0.13912209 0.34196985\n",
            " 0.72053852 0.43614999 0.06606692 0.12041213 0.53822948 0.85898297\n",
            " 0.51118037 0.86724073 0.28744385 0.29494745 0.02421186 0.92110082\n",
            " 0.88564198 0.2314679  0.14928876 0.78624291 0.51577834 0.7014421\n",
            " 0.51484152 0.66893818 0.47428652 0.87791637 0.41391712 0.64779163\n",
            " 0.81867037 0.89606923 0.52489722 0.89782477 0.14746064 0.07816501\n",
            " 0.03683141 0.50292616 0.26693008 0.26989381 0.75593455 0.49042975\n",
            " 0.91097702 0.17930561 0.02560765 0.11272089 0.66765233 0.73584809\n",
            " 0.55048382 0.20815769]\n",
            "angle with constraint is: [ -9.21830664  16.7497443   17.11600984  -8.20068151 -21.65267466\n",
            "  -9.48180903  13.23231097  -3.83100031 -26.03598461 -22.77527249\n",
            "   2.29376861  21.53897824   0.67082206  22.03444383 -12.75336903\n",
            " -12.30315326 -28.54728867  25.26604946  23.13851909 -16.1119263\n",
            " -21.04267418  17.17457452   0.94670021  12.08652609   0.89049145\n",
            "  10.1362909   -1.5428087   22.6749824   -5.16497267   8.86749771\n",
            "  19.12022219  23.76415358   1.49383333  23.86948629 -21.15236163\n",
            " -25.31009952 -27.79011567   0.17556958 -13.98419535 -13.80637168\n",
            "  15.35607289  -0.57421487  24.65862105 -19.24166331 -28.46354127\n",
            " -23.23674641  10.05913999  14.15088532   3.02902924 -17.51053874]\n",
            "shape of sample before is: (50, 28, 28)\n",
            "len(sample.shape) 3\n",
            "angle is: [0.15392697 0.71441632 0.89604429 0.89615383 0.62308328 0.44903687\n",
            " 0.98663219 0.36279112 0.67786554 0.11374422 0.59441471 0.60232715\n",
            " 0.66952005 0.67045253 0.93487077 0.84558181 0.24222145 0.8271594\n",
            " 0.52890816 0.00731507 0.85805833 0.66230819 0.62096839 0.68928313\n",
            " 0.72364975 0.43635708 0.89896531 0.74032383 0.54302017 0.88871765\n",
            " 0.71088222 0.31245594 0.26249108 0.53816506 0.36979645 0.5633222\n",
            " 0.3909877  0.15130081 0.14743691 0.57271106 0.19071411 0.92598218\n",
            " 0.23975308 0.09947295 0.87615719 0.35139896 0.19574463 0.41581631\n",
            " 0.21961974 0.39783515]\n",
            "angle with constraint is: [-20.76438205  12.86497938  23.7626574   23.76922969   7.38499675\n",
            "  -3.05778754  29.19793129  -8.23253267  10.67193224 -23.17534686\n",
            "   5.66488233   6.13962875  10.17120272  10.22715157  26.09224629\n",
            "  20.73490852 -15.46671308  19.62956387   1.73448938 -29.56109562\n",
            "  21.48349997   9.73849143   7.25810353  11.35698762  13.41898498\n",
            "  -3.81857541  23.93791837  14.41942965   2.5812099   23.32305886\n",
            "  12.652933   -11.25264383 -14.25053542   2.28990345  -7.81221283\n",
            "   3.79933214  -6.5407381  -20.92195119 -21.15378561   4.36266347\n",
            " -18.55715361  25.55893086 -15.61481495 -24.03162301  22.56943134\n",
            "  -8.91606232 -18.25532242  -5.0510211  -16.82281556  -6.12989095]\n",
            "shape of sample before is: (50, 28, 28)\n",
            "len(sample.shape) 3\n",
            "angle is: [0.2317914  0.90308297 0.54311246 0.02369409 0.28208073 0.19963521\n",
            " 0.18302623 0.57410851 0.41769951 0.90497207 0.60964342 0.96797505\n",
            " 0.83646919 0.63177361 0.87092205 0.84354226 0.36369065 0.62935345\n",
            " 0.59072551 0.36599188 0.44624292 0.50446385 0.50503427 0.56275247\n",
            " 0.81415353 0.12624692 0.59209009 0.81978    0.27898501 0.46149998\n",
            " 0.14990893 0.77147025 0.90850019 0.39473439 0.5274915  0.69971893\n",
            " 0.20606547 0.92153775 0.25003282 0.8320214  0.35812699 0.95359452\n",
            " 0.88419998 0.01871967 0.23690801 0.79938361 0.2117517  0.38417786\n",
            " 0.75842167 0.98193808]\n",
            "angle with constraint is: [-16.09251571  24.18497805   2.58674778 -28.5783545  -13.07515609\n",
            " -18.02188757 -19.01842634   4.44651053  -4.93802955  24.29832439\n",
            "   6.57860546  28.07850326  20.18815166   7.90641666  22.25532307\n",
            "  20.6125355   -8.17856087   7.76120686   5.44353083  -8.04048698\n",
            "  -3.22542502   0.26783099   0.30205619   3.76514815  18.84921195\n",
            " -22.42518485   5.52540569  19.18679984 -13.26089951  -2.3100013\n",
            " -21.00546421  16.28821473  24.51001133  -6.31593679   1.64948989\n",
            "  11.98313566 -17.63607202  25.29226518 -14.99803069  19.92128403\n",
            "  -8.51238066  27.21567147  23.05199868 -28.87681993 -15.78551939\n",
            "  17.9630164  -17.29489789  -6.94932845  15.50530002  28.91628459]\n",
            "Accuracy after rotation augmentation constrained by  60  is  0.0892\n",
            "shape of sample before is: (50, 28, 28)\n",
            "len(sample.shape) 3\n",
            "angle is: [0.82495943 0.97084749 0.06162291 0.16984105 0.84862658 0.14371088\n",
            " 0.19306875 0.69379717 0.66372443 0.10157718 0.29541079 0.66494185\n",
            " 0.65807786 0.87336136 0.72807259 0.29311576 0.50428315 0.09273068\n",
            " 0.22271408 0.23507182 0.09427295 0.82111402 0.25558055 0.37600782\n",
            " 0.64927627 0.71771117 0.81086773 0.81397675 0.42046407 0.39902253\n",
            " 0.60165456 0.51095665 0.48478755 0.27194009 0.00138881 0.96105085\n",
            " 0.38976689 0.15418812 0.21420345 0.53157401 0.32440581 0.35555569\n",
            " 0.07368724 0.50443954 0.96224509 0.39414114 0.86575481 0.60878711\n",
            " 0.7211177  0.5305736 ]\n",
            "angle with constraint is: [ 22.74716018  32.95932414 -30.68639616 -23.11112618  24.40386081\n",
            " -24.94023852 -21.48518771  13.56580205  11.46070988 -27.88959711\n",
            " -14.32124439  11.5459296   11.06545035  26.13529543  15.96508117\n",
            " -14.48189695   0.29982061 -28.50885237 -19.41001435 -18.54497238\n",
            " -28.40089366  22.47798153 -17.10936136  -8.67945245  10.44933899\n",
            "  15.23978184  21.76074135  21.97837285  -5.56751493  -7.06842256\n",
            "   7.1158195    0.7669655   -1.06487159 -15.96419339 -34.90278343\n",
            "  32.27355947  -7.716318   -24.20683174 -20.00575858   2.21018079\n",
            " -12.29159332 -10.1111019  -29.84189295   0.3107681   32.35715636\n",
            "  -7.41012036  25.60283655   7.61509785  15.47823927   2.1401523 ]\n",
            "shape of sample before is: (50, 28, 28)\n",
            "len(sample.shape) 3\n",
            "angle is: [0.09620725 0.34971404 0.34733897 0.70907575 0.17387031 0.89913672\n",
            " 0.45306265 0.57547455 0.9180875  0.42546886 0.35622427 0.98977455\n",
            " 0.14285658 0.51144278 0.46195498 0.37247771 0.71378998 0.13982394\n",
            " 0.74685213 0.03695379 0.22166142 0.20167828 0.472361   0.80592025\n",
            " 0.17169788 0.3289077  0.1663583  0.10898315 0.85804086 0.72494269\n",
            " 0.29344502 0.16502249 0.53354762 0.97184056 0.27290986 0.55414713\n",
            " 0.39111818 0.90841191 0.79411385 0.37055414 0.79531976 0.84213689\n",
            " 0.63081513 0.83703271 0.10541653 0.66794978 0.8690729  0.04045098\n",
            " 0.1641085  0.84744782]\n",
            "angle with constraint is: [-28.26549231 -10.52001718 -10.68627227  14.63530254 -22.82907817\n",
            "  27.93957006  -3.28561442   5.28321861  29.26612488  -5.21717981\n",
            " -10.06430119  34.28421821 -25.00003946   0.80099458  -2.66315143\n",
            "  -8.92656003  14.96529837 -25.21232396  17.27964918 -32.41323479\n",
            " -19.48370088 -20.88252016  -1.93473004  21.41441759 -22.98114856\n",
            " -11.97646067 -23.35491867 -27.37117936  25.0628602   15.74598798\n",
            " -14.45884892 -23.44842602   2.34833307  33.02883952 -15.89630958\n",
            "   3.7902994   -7.6217274   28.58883385  20.58796963  -9.06120994\n",
            "  20.67238305  23.94958204   9.15705882  23.59228942 -27.62084265\n",
            "  11.75648454  25.83510294 -32.16843164 -23.51240486  24.32134719]\n",
            "shape of sample before is: (50, 28, 28)\n",
            "len(sample.shape) 3\n",
            "angle is: [0.83656545 0.75749115 0.18808281 0.54653474 0.12634641 0.57579068\n",
            " 0.39561712 0.79906787 0.09541368 0.30509915 0.96796987 0.43857953\n",
            " 0.03871243 0.50432026 0.15404636 0.16321778 0.97829285 0.73587364\n",
            " 0.36783759 0.21134683 0.10912015 0.54925706 0.46251518 0.81415496\n",
            " 0.43034772 0.63010378 0.79114982 0.15628995 0.59385795 0.84593031\n",
            " 0.18890232 0.59120858 0.9918643  0.74409416 0.11024015 0.66122169\n",
            " 0.55905879 0.75959563 0.67358364 0.05712146 0.52512241 0.83042232\n",
            " 0.66028539 0.3536094  0.92446519 0.92180821 0.97541    0.34523174\n",
            " 0.88758881 0.92123648]\n",
            "angle with constraint is: [ 23.55958152  18.02438015 -21.8342031    3.25743208 -26.15575118\n",
            "   5.30534755  -7.3068013   20.93475108 -28.32104231 -13.64305934\n",
            "  32.75789105  -4.2994332  -32.29012994   0.3024183  -24.21675506\n",
            " -23.57475509  33.48049934  16.51115459  -9.2513689  -20.20572183\n",
            " -27.36158971   3.44799413  -2.62393731  21.99084748  -4.8756597\n",
            "   9.10726445  20.38048737 -24.05970345   6.5700567   24.21512173\n",
            " -21.77683787   6.38460082  34.43050124  17.08659115 -27.28318918\n",
            "  11.2855181    4.13411515  18.17169382  12.15085453 -31.00149813\n",
            "   1.75856882  23.1295621   11.21997745 -10.24734178  29.71256316\n",
            "  29.52657466  33.27869971 -10.83377841  27.1312165   29.48655337]\n",
            "shape of sample before is: (50, 28, 28)\n",
            "len(sample.shape) 3\n",
            "angle is: [0.11787696 0.76957042 0.1348897  0.81924675 0.25955018 0.26474458\n",
            " 0.80032687 0.18053037 0.12463996 0.15442017 0.0705156  0.16019157\n",
            " 0.7438962  0.37305939 0.45668337 0.9168764  0.84330845 0.80530082\n",
            " 0.59683811 0.86242234 0.52976011 0.97422202 0.67762491 0.81636566\n",
            " 0.06700905 0.98483576 0.03345181 0.60969971 0.52989154 0.87261792\n",
            " 0.55395518 0.34146685 0.46729371 0.03228725 0.08354955 0.4156121\n",
            " 0.06663535 0.01202998 0.87683456 0.8025615  0.03642417 0.72842972\n",
            " 0.44350186 0.67664172 0.1860486  0.56436755 0.25739605 0.14008177\n",
            " 0.94185954 0.81116364]\n",
            "angle with constraint is: [-26.74861275  18.86992933 -25.55772121  22.34727281 -16.83148763\n",
            " -16.46787969  21.02288074 -22.36287393 -26.27520308 -24.19058787\n",
            " -30.06390799 -23.78659022  17.07273369  -8.88584304  -3.03216439\n",
            "  29.18134821  24.03159176  21.3710574    6.77866781  25.36956349\n",
            "   2.08320793  33.19554106  12.43374368  22.14559644 -30.3093665\n",
            "  33.93850345 -32.65837359   7.67898001   2.09240782  26.08325451\n",
            "   3.77686248 -11.09732029  -2.28943996 -32.73989276 -29.15153177\n",
            "  -5.90715296 -30.33552581 -34.15790158  26.37841894  21.17930499\n",
            " -32.45030803  15.99008069  -3.95486945  12.36492054 -21.97659779\n",
            "   4.50572827 -16.98227677 -25.19427601  30.93016783  21.78145499]\n",
            "shape of sample before is: (50, 28, 28)\n",
            "len(sample.shape) 3\n",
            "angle is: [0.51265853 0.98918927 0.12867803 0.81553115 0.06302333 0.82360006\n",
            " 0.53613445 0.78265868 0.46020825 0.26812934 0.89093468 0.86447935\n",
            " 0.32428896 0.49943537 0.51397153 0.15938194 0.53123733 0.81713634\n",
            " 0.91125323 0.61270392 0.12218194 0.04736853 0.65735945 0.49623887\n",
            " 0.56939822 0.93115262 0.16477167 0.76452587 0.4804654  0.08545041\n",
            " 0.66079984 0.36862826 0.98393712 0.1590377  0.7441015  0.40988965\n",
            " 0.08124955 0.18036864 0.63763019 0.5246112  0.92214078 0.85927094\n",
            " 0.72621166 0.695838   0.17973553 0.61545896 0.27796779 0.84777866\n",
            " 0.73782856 0.17192024]\n",
            "angle with constraint is: [  0.88609706  34.24324922 -25.99253813  22.08718022 -30.58836694\n",
            "  22.65200444   2.52941183  19.78610784  -2.78542271 -16.23094627\n",
            "  27.36542733  25.51355448 -12.29977281  -0.03952425   0.97800701\n",
            " -23.84326446   2.18661306  22.19954369  28.78772592   7.88927439\n",
            " -26.44726393 -31.6842029   11.01516118  -0.26327925   4.85787556\n",
            "  30.18068311 -23.46598306  18.51681101  -1.36742183 -29.01847135\n",
            "  11.25598863  -9.19602212  33.87559858 -23.8673609   17.0871049\n",
            "  -6.30772418 -29.31253146 -22.37419491   9.63411326   1.72278405\n",
            "  29.5498544   25.14896598  15.83481654  13.70865998 -22.41851308\n",
            "   8.08212748 -15.54225476  24.34450608  16.64799919 -22.96558295]\n",
            "Accuracy after rotation augmentation constrained by  70  is  0.0892\n",
            "shape of sample before is: (50, 28, 28)\n",
            "len(sample.shape) 3\n",
            "angle is: [0.77077179 0.49380915 0.0416765  0.2869035  0.94269966 0.19419599\n",
            " 0.88961382 0.40958302 0.45973529 0.33457245 0.62291791 0.03033311\n",
            " 0.9309328  0.84109381 0.44116801 0.605231   0.38171004 0.7399537\n",
            " 0.54151915 0.47035075 0.4395093  0.83310993 0.89789776 0.96787681\n",
            " 0.73183668 0.1536564  0.88277546 0.77853931 0.77360371 0.13814396\n",
            " 0.47987686 0.36774651 0.40442368 0.83217002 0.56803434 0.61086404\n",
            " 0.21184406 0.93719145 0.66417068 0.81790857 0.71328737 0.33106865\n",
            " 0.94778509 0.05326805 0.41478749 0.6135776  0.82417312 0.78393729\n",
            " 0.99558936 0.44302695]\n",
            "angle with constraint is: [ 21.66174304  -0.49526816 -36.66587971 -17.04772032  35.41597259\n",
            " -24.46432045  31.16910543  -7.23335801  -3.22117688 -13.23420399\n",
            "   9.8334331  -37.57335142  34.4746238   27.28750475  -4.70655932\n",
            "   8.41848002  -9.46319657  19.19629573   3.32153206  -2.3719403\n",
            "  -4.83925594  26.64879462  31.83182089  37.43014509  18.54693414\n",
            " -27.7074884   30.62203684  22.28314441  21.88829711 -28.94848342\n",
            "  -1.60985142 -10.58027922  -7.64610584  26.5736017    5.44274751\n",
            "   8.86912299 -23.0524749   34.97531609  13.13365401  25.43268585\n",
            "  17.06298922 -13.51450816  35.82280755 -35.73855631  -6.81700073\n",
            "   9.08620763  25.93384994  22.71498338  39.64714851  -4.55784392]\n",
            "shape of sample before is: (50, 28, 28)\n",
            "len(sample.shape) 3\n",
            "angle is: [0.87759692 0.11808296 0.76167294 0.09646654 0.35167032 0.55281676\n",
            " 0.54591702 0.35475306 0.82146666 0.13367303 0.19133949 0.69014502\n",
            " 0.68796247 0.07903167 0.57637103 0.17923174 0.87597044 0.4052917\n",
            " 0.85629384 0.35657277 0.2536361  0.76150981 0.88565653 0.30776417\n",
            " 0.21473914 0.92204505 0.21812163 0.02134754 0.49967598 0.32348664\n",
            " 0.34900186 0.94999552 0.62240397 0.85792849 0.72819215 0.76809107\n",
            " 0.41054099 0.6358512  0.80169346 0.90493713 0.65897427 0.11100868\n",
            " 0.6541651  0.9595255  0.69291961 0.6353736  0.73162146 0.12127153\n",
            " 0.70860932 0.7346964 ]\n",
            "angle with constraint is: [ 3.02077536e+01 -3.05533633e+01  2.09338354e+01 -3.22826768e+01\n",
            " -1.18663748e+01  4.22534106e+00  3.67336190e+00 -1.16197553e+01\n",
            "  2.57173327e+01 -2.93061578e+01 -2.46928406e+01  1.52116019e+01\n",
            "  1.50369975e+01 -3.36774665e+01  6.10968252e+00 -2.56614604e+01\n",
            "  3.00776350e+01 -7.57666423e+00  2.85035071e+01 -1.14741782e+01\n",
            " -1.97091121e+01  2.09207845e+01  3.08525225e+01 -1.53788665e+01\n",
            " -2.28208685e+01  3.37636041e+01 -2.25502695e+01 -3.82921972e+01\n",
            " -2.59218415e-02 -1.41210687e+01 -1.20798516e+01  3.59996419e+01\n",
            "  9.79231738e+00  2.86342794e+01  1.82553721e+01  2.14472857e+01\n",
            " -7.15672087e+00  1.08680963e+01  2.41354769e+01  3.23949707e+01\n",
            "  1.27179414e+01 -3.11193057e+01  1.23332082e+01  3.67620400e+01\n",
            "  1.54335688e+01  1.08298882e+01  1.85297165e+01 -3.02982778e+01\n",
            "  1.66887453e+01  1.87757124e+01]\n",
            "shape of sample before is: (50, 28, 28)\n",
            "len(sample.shape) 3\n",
            "angle is: [0.35417519 0.70603157 0.09904257 0.41114111 0.05667906 0.10767886\n",
            " 0.29186169 0.23598881 0.12959282 0.76324375 0.92076648 0.63563636\n",
            " 0.64065049 0.42102671 0.60910654 0.83024645 0.93168831 0.73826216\n",
            " 0.58684123 0.43514582 0.28957118 0.92926596 0.97588907 0.38018709\n",
            " 0.77752415 0.26376477 0.36778082 0.01465715 0.60221482 0.68206459\n",
            " 0.32435263 0.00533416 0.43818627 0.57739115 0.69231218 0.24276897\n",
            " 0.93341065 0.10852845 0.21185193 0.962958   0.2314296  0.65159726\n",
            " 0.81397728 0.60345806 0.50538116 0.33173529 0.53046238 0.67166033\n",
            " 0.53695334 0.42926718]\n",
            "angle with constraint is: [-11.66598477  16.48252559 -32.07659425  -7.10871113 -35.46567502\n",
            " -31.38569102 -16.65106512 -21.12089558 -29.63257471  21.05949983\n",
            "  33.66131868  10.85090916  11.25203944  -6.31786329   8.72852352\n",
            "  26.41971632  34.53506502  19.06097275   6.94729854  -5.18833426\n",
            " -16.83430599  34.34127682  38.07112526  -9.58503264  22.20193169\n",
            " -18.89881825 -10.57753452 -38.82742766   8.17718559  14.56516707\n",
            " -14.05178942 -39.57326749  -4.94509809   6.19129237  15.38497459\n",
            " -20.57848277  34.67285181 -31.31772436 -23.05184528  37.03664003\n",
            " -21.48563212  12.12778068  25.11818278   8.27664486   0.43049293\n",
            " -13.46117642   2.4369906   13.73282624   2.95626751  -5.65862531]\n",
            "shape of sample before is: (50, 28, 28)\n",
            "len(sample.shape) 3\n",
            "angle is: [0.83381837 0.73072608 0.68066766 0.61958694 0.69085448 0.53149531\n",
            " 0.58170417 0.291224   0.06200228 0.7168105  0.09875652 0.31271343\n",
            " 0.30890548 0.45035296 0.784074   0.09619776 0.70792921 0.25435032\n",
            " 0.18657121 0.11253567 0.07614341 0.70801102 0.13599436 0.65755948\n",
            " 0.93629498 0.62945486 0.33587123 0.06421039 0.48540686 0.81594164\n",
            " 0.00688529 0.2199287  0.04103185 0.11423371 0.15935904 0.35125496\n",
            " 0.64031571 0.07911044 0.65970635 0.91702271 0.84482438 0.58876259\n",
            " 0.47932021 0.0469416  0.62693603 0.72956208 0.68362556 0.59438448\n",
            " 0.14839515 0.27428101]\n",
            "angle with constraint is: [ 26.70546948  18.45808656  14.45341292   9.56695532  15.26835871\n",
            "   2.51962495   6.53633337 -16.70207985 -35.0398173   17.34483964\n",
            " -32.09947853 -14.98292557 -15.28756138  -3.97176312  22.72591993\n",
            " -32.30417949  16.63433652 -19.65197419 -25.07430347 -30.99714611\n",
            " -33.90852741  16.64088122 -29.12045143  12.60475845  34.90359869\n",
            "  10.35638855 -13.13030162 -34.86316878  -1.16745096  25.27533118\n",
            " -39.4491767  -22.40570395 -36.71745228 -30.86130319 -27.25127697\n",
            " -11.89960298  11.22525642 -33.67116487  12.77650787  33.36181711\n",
            "  27.58595009   7.10100722  -1.65438346 -36.24467169  10.15488226\n",
            "  18.36496663  14.69004451   7.55075849 -28.12838773 -18.05751883]\n",
            "shape of sample before is: (50, 28, 28)\n",
            "len(sample.shape) 3\n",
            "angle is: [0.17943356 0.28953539 0.95270709 0.66240717 0.26268411 0.60496577\n",
            " 0.39557906 0.03423612 0.5301203  0.05305005 0.22889387 0.64935426\n",
            " 0.91686252 0.79703699 0.02100657 0.93818502 0.40759777 0.55119393\n",
            " 0.05437832 0.26203507 0.47666344 0.39458273 0.88941423 0.09028234\n",
            " 0.82427295 0.7622245  0.15533382 0.29754525 0.29851301 0.50659087\n",
            " 0.90014858 0.11406107 0.56442136 0.76268739 0.580609   0.23378419\n",
            " 0.19500079 0.66280056 0.87500714 0.27511457 0.26074874 0.22120349\n",
            " 0.41851074 0.47833326 0.61385707 0.01316307 0.14950194 0.06204546\n",
            " 0.4411566  0.12445189]\n",
            "angle with constraint is: [-25.64531538 -16.83716848  36.21656705  12.99257333 -18.98527083\n",
            "   8.39726155  -8.35367542 -37.26111026   2.40962424 -35.75599562\n",
            " -21.68849064  11.94834064  33.34900191  23.76295943 -38.31947418\n",
            "  35.05480172  -7.39217874   4.0955148  -35.64973439 -19.03719429\n",
            "  -1.8669252   -8.43338133  31.15313878 -32.77741258  25.94183591\n",
            "  20.97796012 -27.57329456 -16.19638026 -16.11895893   0.52726975\n",
            "  32.01188626 -30.87511422   5.15370842  21.01499145   6.44872026\n",
            " -21.2972645  -24.39993711  13.02404455  30.00057081 -17.99083473\n",
            " -19.14010086 -22.30372113  -6.51914083  -1.73333957   9.10856548\n",
            " -38.94695448 -28.03984456 -35.03636303  -4.707472   -30.04384844]\n",
            "Accuracy after rotation augmentation constrained by  80  is  0.0892\n",
            "shape of sample before is: (50, 28, 28)\n",
            "len(sample.shape) 3\n",
            "angle is: [0.94876054 0.96919459 0.04792086 0.57268887 0.69325219 0.8490784\n",
            " 0.34819863 0.65852378 0.09175883 0.42872528 0.72577123 0.44539515\n",
            " 0.63411383 0.32822008 0.1482704  0.58008197 0.49805249 0.25406021\n",
            " 0.4845376  0.46855302 0.83608072 0.7125578  0.8256775  0.16927644\n",
            " 0.07242223 0.72650869 0.42558759 0.75890454 0.62326832 0.70349562\n",
            " 0.5671679  0.17721155 0.53280228 0.72691332 0.70690941 0.1900439\n",
            " 0.44218372 0.98675593 0.59926909 0.80572699 0.756634   0.22885297\n",
            " 0.05547219 0.15091813 0.02916115 0.0717118  0.59326456 0.17996542\n",
            " 0.58065152 0.54487703]\n",
            "angle with constraint is: [ 40.3884489   42.22751316 -40.6871225    6.54199812  17.39269713\n",
            "  31.4170556  -13.6621233   14.26714007 -36.74170533  -6.41472485\n",
            "  20.31941068  -4.91443668  12.07024508 -15.46019261 -31.65566441\n",
            "   7.20737712  -0.17527625 -22.13458149  -1.39161639  -2.83022776\n",
            "  30.24726461  19.13020175  29.31097494 -29.76511998 -38.48199906\n",
            "  20.38578188  -6.69711659  23.30140877  11.0941486   18.314606\n",
            "   6.0451107  -29.05096068   2.95220561  20.42219869  18.6218469\n",
            " -27.89604918  -5.20346515  43.80803379   8.9342183   27.51542866\n",
            "  23.09706034 -24.40323302 -40.00750262 -31.41736856 -42.3754961\n",
            " -38.5459383    8.39381032 -28.80311179   7.25863701   4.038933  ]\n",
            "shape of sample before is: (50, 28, 28)\n",
            "len(sample.shape) 3\n",
            "angle is: [0.98737587 0.23211119 0.54689557 0.01520829 0.42732118 0.66269076\n",
            " 0.26283612 0.45071995 0.13798875 0.4380787  0.77317982 0.64152349\n",
            " 0.70816278 0.45812299 0.71101451 0.54966795 0.13251627 0.62975823\n",
            " 0.1826701  0.14213381 0.31895563 0.33366071 0.77348419 0.55464946\n",
            " 0.82002303 0.97030247 0.14105488 0.73069246 0.42744559 0.57557933\n",
            " 0.01363717 0.20989946 0.78842215 0.15266738 0.72737645 0.3025401\n",
            " 0.49257652 0.51909017 0.95503293 0.65201248 0.71406196 0.13774495\n",
            " 0.15259825 0.34202924 0.38561683 0.59009865 0.12941023 0.06152139\n",
            " 0.09581192 0.44220264]\n",
            "angle with constraint is: [ 43.86382873 -24.10999251   4.22060117 -43.63125398  -6.54109367\n",
            "  14.64216871 -21.34474927  -4.43520408 -32.58101234  -5.57291663\n",
            "  24.58618346  12.73711432  18.73465018  -3.7689313   18.99130595\n",
            "   4.47011506 -33.07353553  11.67824058 -28.55969111 -32.20795739\n",
            " -16.29399333 -14.9705359   24.61357739   4.91845116  28.80207234\n",
            "  42.32722258 -32.30506056  20.7623218   -6.52989675   6.8021397\n",
            " -43.77265451 -26.10904858  25.95799325 -31.25993557  20.46388067\n",
            " -17.77139132  -0.66811299   1.71811556  40.95296372  13.68112312\n",
            "  19.26557635 -32.60295471 -31.26615769 -14.21736874 -10.29448521\n",
            "   8.10887839 -33.35307897 -39.46307485 -36.376927    -5.20176233]\n",
            "shape of sample before is: (50, 28, 28)\n",
            "len(sample.shape) 3\n",
            "angle is: [0.87024554 0.87158001 0.82527628 0.18523042 0.90040466 0.01962267\n",
            " 0.79390852 0.25135948 0.76864615 0.97159369 0.80952887 0.02576924\n",
            " 0.58745884 0.39513228 0.2964045  0.85760615 0.52779993 0.70343671\n",
            " 0.44718124 0.16100699 0.64645984 0.49051139 0.78840408 0.96438676\n",
            " 0.98722857 0.95679798 0.38900949 0.80910154 0.61419785 0.03240579\n",
            " 0.17182438 0.36617165 0.45292214 0.71907475 0.53766431 0.25592946\n",
            " 0.40556459 0.98128661 0.28794819 0.05227443 0.22523928 0.78353836\n",
            " 0.54043887 0.24441076 0.19008306 0.2722806  0.68292847 0.14208667\n",
            " 0.31828701 0.98098983]\n",
            "angle with constraint is: [ 33.32209835  33.4422013   29.27486523 -28.32926177  36.03641931\n",
            " -43.23395938  26.45176665 -22.37764665  24.1781534   42.44343232\n",
            "  27.85759796 -42.68076807   7.87129533  -9.43809476 -18.32359535\n",
            "  32.1845533    2.50199414  18.30930358  -4.75368842 -30.50937131\n",
            "  13.18138548  -0.85397475  25.95636679  41.79480825  43.85057146\n",
            "  41.11181852  -9.98914595  27.81913905  10.27780667 -42.08347906\n",
            " -29.53580555 -12.0445517   -4.23700717  19.71672777   3.3897882\n",
            " -21.96634818  -8.49918651  43.31579499 -19.08466307 -40.29530132\n",
            " -24.7284645   25.51845205   3.63949785 -23.00303151 -27.89252463\n",
            " -20.49474571  16.46356249 -32.21219972 -16.35416883  43.28908512]\n",
            "shape of sample before is: (50, 28, 28)\n",
            "len(sample.shape) 3\n",
            "angle is: [0.68442426 0.91261073 0.80908504 0.81862875 0.95653185 0.45441948\n",
            " 0.16501363 0.95850682 0.4916104  0.94307018 0.22744803 0.68370579\n",
            " 0.27150409 0.99152764 0.97809759 0.55792504 0.64299801 0.63893785\n",
            " 0.85218315 0.52896275 0.04223967 0.23837928 0.84850531 0.09535043\n",
            " 0.0389382  0.39320717 0.68853433 0.34421459 0.65865146 0.61360279\n",
            " 0.64296157 0.35973663 0.02327554 0.60300505 0.01460304 0.5620212\n",
            " 0.33355164 0.49917873 0.06109293 0.43720451 0.22310186 0.29735049\n",
            " 0.3515082  0.86170044 0.30685398 0.98120361 0.21656793 0.67783737\n",
            " 0.26360188 0.69841451]\n",
            "angle with constraint is: [ 16.59818375  37.13496548  27.81765396  28.67658732  41.08786623\n",
            "  -4.10224704 -30.14877334  41.2656142   -0.75506418  39.8763164\n",
            " -24.52967688  16.53352105 -20.56463157  44.23748764  43.02878337\n",
            "   5.21325375  12.86982104  12.50440623  31.6964836    2.60664764\n",
            " -41.19842934 -23.54586499  31.36547834 -36.41846119 -41.49556236\n",
            "  -9.61135502  16.96808998 -14.02068665  14.27863132  10.22425148\n",
            "  12.86654158 -12.6237034  -42.90520131   9.27045492 -43.68572643\n",
            "   5.58190787 -14.98035217  -0.07391423 -39.50163647  -5.6515945\n",
            " -24.92083297 -18.23845565 -13.36426221  32.55303972 -17.38314143\n",
            "  43.30832485 -25.50888646  16.00536351 -21.27583065  17.85730575]\n",
            "shape of sample before is: (50, 28, 28)\n",
            "len(sample.shape) 3\n",
            "angle is: [2.96844616e-02 3.55732146e-01 6.44912909e-01 9.49135780e-05\n",
            " 8.50866541e-01 1.25707468e-01 9.71395626e-02 3.50440483e-01\n",
            " 1.88932286e-01 1.44167886e-01 3.20296505e-01 1.91402914e-01\n",
            " 2.42130254e-01 5.49094519e-01 9.21796394e-01 1.59268633e-02\n",
            " 2.15882774e-02 2.59683052e-01 2.25824962e-02 9.55683972e-01\n",
            " 3.50635240e-01 3.08673233e-01 9.48247210e-01 8.74070735e-01\n",
            " 6.22513403e-01 4.05520337e-02 3.38144721e-01 8.44446908e-01\n",
            " 9.50441041e-02 1.69297868e-01 9.76057529e-01 6.35519771e-02\n",
            " 9.26631574e-01 5.40235317e-01 3.43028173e-01 9.52939938e-01\n",
            " 3.72390766e-01 7.96353839e-01 6.83715247e-01 6.76271756e-01\n",
            " 6.67459486e-01 9.94398784e-01 4.28732200e-01 6.09217638e-01\n",
            " 4.90315729e-01 7.60202801e-02 2.22516966e-01 4.44669383e-01\n",
            " 3.97122470e-01 9.18640489e-01]\n",
            "angle with constraint is: [-42.32839846 -12.98410689  13.04216184 -44.99145778  31.57798868\n",
            " -33.68632791 -36.25743937 -13.46035657 -27.99609423 -32.02489022\n",
            " -16.17331454 -27.77373776 -23.20827714   4.4185067   37.96167545\n",
            " -43.56658231 -43.05705503 -21.62852533 -42.96757534  41.0115575\n",
            " -13.44282837 -17.21940905  40.34224887  33.66636611  11.02620624\n",
            " -41.35031696 -14.56697507  31.00022176 -36.44603063 -29.76319186\n",
            "  42.84517765 -39.28032206  38.39684167   3.62117853 -14.12746446\n",
            "  40.76459438 -11.48483109  26.67184553  16.53437227  15.86445805\n",
            "  15.07135375  44.49589054  -6.41410201   9.82958746  -0.87158443\n",
            " -38.15817479 -24.97347305  -4.97975551  -9.25897767  37.67764399]\n",
            "Accuracy after rotation augmentation constrained by  90  is  0.0892\n"
          ]
        }
      ]
    },
    {
      "cell_type": "code",
      "source": [
        "angleconstraints = [50] #tesing different values\n",
        "accuracies = np.zeros(len(angleconstraints), dtype=np.float) # we will save the values here\n",
        "\n",
        "for ii in range(len(angleconstraints)):\n",
        "  # create the augmented dataset\n",
        "  augdata = train_X # we include the original images also in the augmented dataset\n",
        "  auglabel = train_y\n",
        "  for jj in range(naugmentations):\n",
        "    augdata = np.concatenate((augdata, augRotate(train_X, angleconstraints[ii]))) # concatenate the augmented data to the set\n",
        "    auglabel = np.concatenate((auglabel, train_y))  # the labels don't change when we augment\n",
        "  print(augdata.shape)\n",
        "  print(train_X.shape)\n",
        "  # check the test accuracy\n",
        "  testpred = NN(augdata, auglabel, test_X)\n",
        "  accuracies[ii] = Accuracy(test_y, testpred)\n",
        "  print('Accuracy after rotation augmentation constrained by ',angleconstraints[ii], ' is ', accuracies[ii], flush=True)"
      ],
      "metadata": {
        "colab": {
          "base_uri": "https://localhost:8080/"
        },
        "id": "vPhZMttujCOT",
        "outputId": "6ef2b5e6-63aa-4414-9f28-2f06d8d47566"
      },
      "execution_count": null,
      "outputs": [
        {
          "output_type": "stream",
          "name": "stderr",
          "text": [
            "/usr/local/lib/python3.7/dist-packages/ipykernel_launcher.py:2: DeprecationWarning: `np.float` is a deprecated alias for the builtin `float`. To silence this warning, use `float` by itself. Doing this will not modify any behavior and is safe. If you specifically wanted the numpy scalar type, use `np.float64` here.\n",
            "Deprecated in NumPy 1.20; for more details and guidance: https://numpy.org/devdocs/release/1.20.0-notes.html#deprecations\n",
            "  \n"
          ]
        },
        {
          "output_type": "stream",
          "name": "stdout",
          "text": [
            "shape of sample before is: (50, 28, 28)\n",
            "len(sample.shape) 3\n",
            "angle is: [0.5932163  0.11316412 0.38602119 0.05421642 0.30382527 0.7791677\n",
            " 0.94058741 0.51178071 0.87668935 0.5993362  0.62210953 0.52541073\n",
            " 0.19088684 0.95331161 0.91036761 0.14776899 0.1515954  0.27369318\n",
            " 0.80859095 0.52488552 0.84031776 0.00522809 0.76390443 0.448933\n",
            " 0.9439309  0.38243335 0.43545252 0.369121   0.09671233 0.21167902\n",
            " 0.48356789 0.60833609 0.785409   0.59549642 0.50856132 0.85308737\n",
            " 0.94500749 0.02299469 0.5535098  0.45149031 0.27433468 0.769547\n",
            " 0.38882079 0.65884385 0.50968245 0.91673169 0.21814515 0.69399249\n",
            " 0.99012456 0.38367696]\n",
            "angle with constraint is: [  4.66081513 -19.341794    -5.69894041 -22.28917918  -9.80873652\n",
            "  13.95838497  22.02937054   0.58903527  18.83446766   4.9668102\n",
            "   6.10547655   1.27053652 -15.45565802  22.66558057  20.51838047\n",
            " -17.61155055 -17.42023016 -11.31534115  15.42954741   1.24427595\n",
            "  17.01588802 -24.73859547  13.19522148  -2.55335002  22.19654485\n",
            "  -5.87833247  -3.22737402  -6.54395    -20.16438347 -14.41604898\n",
            "  -0.8216055    5.41680433  14.27044979   4.77482117   0.42806601\n",
            "  17.65436829  22.25037429 -23.85026568   2.67549021  -2.42548434\n",
            " -11.28326578  13.47734986  -5.55896073   7.94219238   0.48412236\n",
            "  20.83658444 -14.09274234   9.69962456  24.5062281   -5.81615198]\n",
            "shape of sample before is: (50, 28, 28)\n",
            "len(sample.shape) 3\n",
            "angle is: [0.64054088 0.81762065 0.95148057 0.84762103 0.19721928 0.71422564\n",
            " 0.68811493 0.84588769 0.95121834 0.77529892 0.50266763 0.8183611\n",
            " 0.75339861 0.62893372 0.5380441  0.01248866 0.2501397  0.86782412\n",
            " 0.88585585 0.87486121 0.68940692 0.61482204 0.53583913 0.25184747\n",
            " 0.70606601 0.5400723  0.76326285 0.61096477 0.29340103 0.8891218\n",
            " 0.44700842 0.76198353 0.24328104 0.4119006  0.60486109 0.25274457\n",
            " 0.87521402 0.69677618 0.09756254 0.02080939 0.16036379 0.10041217\n",
            " 0.84547538 0.17876167 0.47898471 0.5477291  0.43575923 0.47757603\n",
            " 0.03698502 0.09751735]\n",
            "angle with constraint is: [  7.02704375  15.88103226  22.57402842  17.38105127 -15.13903608\n",
            "  10.71128178   9.40574646  17.29438473  22.56091719  13.76494581\n",
            "   0.1333815   15.91805508  12.66993047   6.44668585   1.90220475\n",
            " -24.37556694 -12.49301519  18.39120596  19.29279235  18.74306028\n",
            "   9.47034604   5.74110223   1.79195625 -12.4076264   10.30330074\n",
            "   2.00361487  13.16314241   5.54823839 -10.3299483   19.45609024\n",
            "  -2.64957918  13.09917655 -12.83594803  -4.40496983   5.24305457\n",
            " -12.36277152  18.76070106   9.83880888 -20.1218732  -23.95953044\n",
            " -16.98181034 -19.9793914   17.27376909 -16.06191655  -1.05076463\n",
            "   2.38645495  -3.21203871  -1.12119867 -23.15074924 -20.12413233]\n",
            "shape of sample before is: (50, 28, 28)\n",
            "len(sample.shape) 3\n",
            "angle is: [0.75713994 0.63046938 0.3172401  0.31695744 0.05045351 0.24662346\n",
            " 0.99173726 0.36723114 0.93354403 0.1124293  0.92073672 0.26084536\n",
            " 0.69235226 0.62676539 0.37644739 0.65924994 0.30933291 0.11844754\n",
            " 0.87004538 0.13374236 0.65729971 0.54586074 0.63201927 0.52350681\n",
            " 0.25126072 0.76931634 0.98699699 0.31025879 0.75516546 0.2046758\n",
            " 0.00601854 0.28191017 0.87931273 0.77274031 0.27356878 0.18922523\n",
            " 0.94539687 0.30790555 0.02163144 0.35641116 0.93993758 0.50600055\n",
            " 0.14959614 0.39029105 0.61009473 0.61043484 0.87925333 0.30161045\n",
            " 0.93968158 0.18921941]\n",
            "angle with constraint is: [ 12.85699696   6.52346903  -9.13799509  -9.15212785 -22.47732474\n",
            " -12.66882701  24.58686289  -6.6384428   21.67720169 -19.37853519\n",
            "  21.03683597 -11.95773202   9.61761276   6.33826974  -6.17763039\n",
            "   7.96249693  -9.53335437 -19.07762286  18.50226923 -18.31288218\n",
            "   7.86498554   2.29303718   6.60096353   1.17534053 -12.43696402\n",
            "  13.46581677  24.34984945  -9.48706027  12.75827317 -14.76620999\n",
            " -24.69907293 -10.90449155  18.96563674  13.63701527 -11.32156085\n",
            " -15.53873841  22.26984358  -9.6047225  -23.91842822  -7.17944216\n",
            "  21.99687903   0.30002741 -17.52019296  -5.48544732   5.50473628\n",
            "   5.52174197  18.96266633  -9.91947752  21.98407882 -15.53902932]\n",
            "shape of sample before is: (50, 28, 28)\n",
            "len(sample.shape) 3\n",
            "angle is: [0.32282716 0.35952243 0.77111238 0.71549485 0.50155368 0.12070385\n",
            " 0.36304271 0.87410477 0.58320688 0.79178336 0.91359328 0.18837839\n",
            " 0.91346641 0.79446801 0.44177544 0.10380313 0.44405844 0.74704907\n",
            " 0.56472235 0.31110668 0.54812416 0.51961679 0.66352605 0.99383512\n",
            " 0.86020384 0.27625136 0.62378865 0.92476668 0.38424626 0.07038002\n",
            " 0.60513707 0.88762413 0.51941345 0.05215452 0.63283819 0.50410626\n",
            " 0.95762399 0.75913947 0.50690662 0.51605737 0.59188984 0.12586564\n",
            " 0.55113077 0.57635436 0.71096219 0.41990234 0.71196981 0.84884923\n",
            " 0.73384612 0.36644408]\n",
            "angle with constraint is: [ -8.85864195  -7.02387866  13.55561877  10.77474269   0.07768407\n",
            " -18.96480736  -6.84786452  18.70523857   4.16034394  14.58916779\n",
            "  20.67966421 -15.58108028  20.67332043  14.72340073  -2.91122794\n",
            " -19.80984361  -2.79707807  12.35245341   3.23611732  -9.4446658\n",
            "   2.40620812   0.98083952   8.17630252  24.69175593  18.01019207\n",
            " -11.18743215   6.18943275  21.23833394  -5.78768676 -21.48099904\n",
            "   5.25685346  19.38120637   0.97067226 -22.39227407   6.64190926\n",
            "   0.20531307  22.88119927  12.95697342   0.34533102   0.80286836\n",
            "   4.59449211 -18.70671808   2.55653861   3.81771803  10.54810959\n",
            "  -4.00488318  10.59849074  17.44246156  11.692306    -6.677796  ]\n",
            "shape of sample before is: (50, 28, 28)\n",
            "len(sample.shape) 3\n",
            "angle is: [0.71018324 0.2705853  0.93122387 0.20840179 0.51210493 0.07189533\n",
            " 0.63210177 0.05557044 0.76757538 0.99762101 0.60837975 0.66917398\n",
            " 0.26672833 0.60939415 0.55780269 0.24611932 0.77200188 0.62019875\n",
            " 0.16146814 0.11719985 0.33248134 0.78253046 0.17030444 0.95455442\n",
            " 0.90451168 0.4080579  0.54368523 0.74825572 0.43586687 0.94360134\n",
            " 0.82912178 0.62307478 0.64674404 0.60044223 0.6372256  0.08166018\n",
            " 0.74300383 0.39097487 0.08558444 0.33338286 0.86416258 0.74702052\n",
            " 0.01380185 0.97940345 0.57715568 0.70803859 0.56663034 0.51295323\n",
            " 0.94199786 0.98788779]\n",
            "angle with constraint is: [ 10.5091618  -11.47073516  21.56119344 -14.57991073   0.60524638\n",
            " -21.40523359   6.60508828 -22.22147823  13.37876898  24.88105055\n",
            "   5.41898768   8.45869902 -11.66358328   5.46970749   2.89013433\n",
            " -12.6940339   13.60009424   6.00993751 -16.92659318 -19.14000751\n",
            "  -8.37593314  14.12652295 -16.48477803  22.72772122  20.22558389\n",
            "  -4.59710509   2.18426168  12.41278604  -3.2066563   22.180067\n",
            "  16.45608924   6.1537392    7.33720177   5.02211142   6.86127986\n",
            " -20.91699111  12.15019171  -5.45125668 -20.72077776  -8.3308569\n",
            "  18.20812879  12.35102599 -24.30990727  23.97017225   3.85778423\n",
            "  10.40192927   3.33151691   0.64766141  22.09989298  24.39438931]\n",
            "(300, 28, 28)\n",
            "(50, 28, 28)\n",
            "Accuracy after rotation augmentation constrained by  50  is  0.0892\n"
          ]
        }
      ]
    },
    {
      "cell_type": "code",
      "source": [
        "#Accuracy after rotation augmentation constrained by  90  is  0.6467"
      ],
      "metadata": {
        "id": "ZPOH1A3RnqDr"
      },
      "execution_count": null,
      "outputs": []
    },
    {
      "cell_type": "markdown",
      "source": [
        "Let us see the best value for angle constraint: (Ideally this should be done on validation set, not test set)"
      ],
      "metadata": {
        "id": "8Le-7VJBoP8K"
      }
    },
    {
      "cell_type": "code",
      "source": [
        "fig = plt.figure()\n",
        "ax = fig.add_axes([0.1, 0.1, 0.8, 0.8]) # main axes\n",
        "# plot the variation of accuracy\n",
        "ax.plot(angleconstraints, accuracies)\n",
        "ax.set_xlabel('angle')\n",
        "ax.set_ylabel('accuracy')\n",
        "# plot the maximum accuracy\n",
        "maxind = np.argmax(accuracies)\n",
        "plt.scatter(angleconstraints[maxind], accuracies[maxind], c='red')"
      ],
      "metadata": {
        "colab": {
          "base_uri": "https://localhost:8080/",
          "height": 310
        },
        "id": "xG__xE-FoQOg",
        "outputId": "acaf96df-21ec-49be-cfd8-d0cee25fd982"
      },
      "execution_count": null,
      "outputs": [
        {
          "output_type": "execute_result",
          "data": {
            "text/plain": [
              "<matplotlib.collections.PathCollection at 0x7f863fafbfd0>"
            ]
          },
          "metadata": {},
          "execution_count": 26
        },
        {
          "output_type": "display_data",
          "data": {
            "text/plain": [
              "<Figure size 432x288 with 1 Axes>"
            ],
            "image/png": "[encoded data removed]"
          },
          "metadata": {
            "needs_background": "light"
          }
        }
      ]
    },
    {
      "cell_type": "markdown",
      "source": [
        "Let us do a grid search to find the best shear constraint."
      ],
      "metadata": {
        "id": "Vfy-LEb-qdUd"
      }
    },
    {
      "cell_type": "code",
      "source": [
        "shearconstraints = [0, 0.2,0.4,0.6,0.8,1.0,1.2,1.4,1.6,1.8,2.0] # the values we want to test\n",
        "accuracies = np.zeros(len(shearconstraints), dtype=np.float) # we will save the values here\n",
        "\n",
        "for ii in range(len(shearconstraints)):\n",
        "  # create the augmented dataset\n",
        "  augdata = train_X # we include the original images also in the augmented dataset\n",
        "  auglabel = train_y\n",
        "  for jj in range(naugmentations):\n",
        "    augdata = np.concatenate((augdata, augShear(train_X, shearconstraints[ii]))) # concatenate the augmented data to the set\n",
        "    auglabel = np.concatenate((auglabel, train_y))  # the labels don't change when we augment\n",
        "\n",
        "  # check the test accuracy\n",
        "  testpred = NN(augdata, auglabel, test_X)\n",
        "  accuracies[ii] = Accuracy(test_y, testpred)\n",
        "  print('Accuracy after shear augmentation constrained by ',shearconstraints[ii], ' is ', accuracies[ii], flush=True)"
      ],
      "metadata": {
        "colab": {
          "base_uri": "https://localhost:8080/"
        },
        "id": "22m9xPrBoSDi",
        "outputId": "065f8577-ee6d-4849-cf5c-2e604d756a50"
      },
      "execution_count": null,
      "outputs": [
        {
          "output_type": "stream",
          "name": "stderr",
          "text": [
            "/usr/local/lib/python3.7/dist-packages/ipykernel_launcher.py:2: DeprecationWarning: `np.float` is a deprecated alias for the builtin `float`. To silence this warning, use `float` by itself. Doing this will not modify any behavior and is safe. If you specifically wanted the numpy scalar type, use `np.float64` here.\n",
            "Deprecated in NumPy 1.20; for more details and guidance: https://numpy.org/devdocs/release/1.20.0-notes.html#deprecations\n",
            "  \n"
          ]
        },
        {
          "output_type": "stream",
          "name": "stdout",
          "text": [
            "Accuracy after shear augmentation constrained by  0  is  0.6472\n",
            "Accuracy after shear augmentation constrained by  0.2  is  0.6198\n",
            "Accuracy after shear augmentation constrained by  0.4  is  0.6289\n",
            "Accuracy after shear augmentation constrained by  0.6  is  0.6444\n",
            "Accuracy after shear augmentation constrained by  0.8  is  0.6556\n",
            "Accuracy after shear augmentation constrained by  1.0  is  0.6561\n",
            "Accuracy after shear augmentation constrained by  1.2  is  0.6275\n",
            "Accuracy after shear augmentation constrained by  1.4  is  0.6244\n",
            "Accuracy after shear augmentation constrained by  1.6  is  0.596\n",
            "Accuracy after shear augmentation constrained by  1.8  is  0.6067\n",
            "Accuracy after shear augmentation constrained by  2.0  is  0.6345\n"
          ]
        }
      ]
    },
    {
      "cell_type": "code",
      "source": [
        "fig = plt.figure()\n",
        "ax = fig.add_axes([0.1, 0.1, 0.8, 0.8]) # main axes\n",
        "# plot the variation of accuracy\n",
        "ax.plot(shearconstraints, accuracies)\n",
        "ax.set_xlabel('angle')\n",
        "ax.set_ylabel('accuracy')\n",
        "# plot the maximum accuracy\n",
        "maxind = np.argmax(accuracies)\n",
        "plt.scatter(shearconstraints[maxind], accuracies[maxind], c='red')"
      ],
      "metadata": {
        "colab": {
          "base_uri": "https://localhost:8080/",
          "height": 310
        },
        "id": "kBBum9xPqglf",
        "outputId": "6c23ab43-e83b-45cd-e131-7fa07bdaa604"
      },
      "execution_count": null,
      "outputs": [
        {
          "output_type": "execute_result",
          "data": {
            "text/plain": [
              "<matplotlib.collections.PathCollection at 0x7f863fafbe90>"
            ]
          },
          "metadata": {},
          "execution_count": 28
        },
        {
          "output_type": "display_data",
          "data": {
            "text/plain": [
              "<Figure size 432x288 with 1 Axes>"
            ],
            "image/png": "[encoded data removed]"
          },
          "metadata": {
            "needs_background": "light"
          }
        }
      ]
    },
    {
      "cell_type": "markdown",
      "source": [
        "We can do multiple augmentations at the same time. Here is a function to do both shear and rotation to the sample. In this case, we will have two hyperparameters."
      ],
      "metadata": {
        "id": "88Bu9veestqd"
      }
    },
    {
      "cell_type": "code",
      "source": [
        "def augRotateShear(sample, angleconstraint, shearconstraint):\n",
        "  if len(sample.shape)==2:\n",
        "    sample = np.expand_dims(sample, 0)  # make sure the sample is 3 dimensional\n",
        "  amt = rng.random(len(sample)) # generate random numbers for shear\n",
        "  amt = (amt-0.5)*shearconstraint # make the random shear constrained\n",
        "  angle = rng.random(len(sample)) # generate random numbers for angles\n",
        "  angle = (angle-0.5)*angleconstraint # make the random angle constrained\n",
        "  nsample = sample.copy() # preallocate the augmented array to make it faster\n",
        "  for ii in range(len(sample)):\n",
        "    nsample[ii] = rotate(shear(sample[ii], amt[ii]), angle[ii]) # first apply shear, then rotate\n",
        "  return np.squeeze(nsample) # take care if the input had only one sample."
      ],
      "metadata": {
        "id": "T9CflCiur-lr"
      },
      "execution_count": null,
      "outputs": []
    },
    {
      "cell_type": "markdown",
      "source": [
        "Since we have two hyperparameters, we have to do the grid search on a 2 dimensional matrix. We can use our previous experience to inform where to search for the best hyperparameters. "
      ],
      "metadata": {
        "id": "-EdNnol9s4NZ"
      }
    },
    {
      "cell_type": "code",
      "source": [
        "shearconstraints = [0, 0.2,0.4,0.6,0.8,1.0,1.2,1.4,1.6] # the values we want to test\n",
        "angleconstraints = [0,10,20,30,40,50,60] # the values we want to test\n",
        "hyp = cartesian((shearconstraints, angleconstraints)) # cartesian product of both\n",
        "\n",
        "accuracies = np.zeros(len(hyp), dtype=np.float) # we will save the values here\n",
        "\n",
        "for ii in range(len(hyp)):\n",
        "  # create the augmented dataset\n",
        "  augdata = train_X # we include the original images also in the augmented dataset\n",
        "  auglabel = train_y\n",
        "  for jj in range(naugmentations):\n",
        "    augdata = np.concatenate((augdata, augRotateShear(train_X, hyp[ii][0], hyp[ii][1]))) # concatenate the augmented data to the set\n",
        "    auglabel = np.concatenate((auglabel, train_y))  # the labels don't change when we augment\n",
        "\n",
        "  # check the test accuracy\n",
        "  testpred = NN(augdata, auglabel, test_X)\n",
        "  accuracies[ii] = Accuracy(test_y, testpred)\n",
        "  print('Accuracy after augmentation shear:',hyp[ii][0], 'angle:',hyp[ii][1], ' is ', accuracies[ii], flush=True)"
      ],
      "metadata": {
        "colab": {
          "base_uri": "https://localhost:8080/"
        },
        "id": "UfmRisY-swyX",
        "outputId": "448c70a0-18a5-4549-b665-a144a1f24627"
      },
      "execution_count": null,
      "outputs": [
        {
          "output_type": "stream",
          "name": "stderr",
          "text": [
            "/usr/local/lib/python3.7/dist-packages/ipykernel_launcher.py:5: DeprecationWarning: `np.float` is a deprecated alias for the builtin `float`. To silence this warning, use `float` by itself. Doing this will not modify any behavior and is safe. If you specifically wanted the numpy scalar type, use `np.float64` here.\n",
            "Deprecated in NumPy 1.20; for more details and guidance: https://numpy.org/devdocs/release/1.20.0-notes.html#deprecations\n",
            "  \"\"\"\n"
          ]
        },
        {
          "output_type": "stream",
          "name": "stdout",
          "text": [
            "Accuracy after augmentation shear: 0.0 angle: 0.0  is  0.6332\n",
            "Accuracy after augmentation shear: 0.0 angle: 10.0  is  0.6057\n",
            "Accuracy after augmentation shear: 0.0 angle: 20.0  is  0.596\n",
            "Accuracy after augmentation shear: 0.0 angle: 30.0  is  0.6142\n",
            "Accuracy after augmentation shear: 0.0 angle: 40.0  is  0.6015\n",
            "Accuracy after augmentation shear: 0.0 angle: 50.0  is  0.6103\n",
            "Accuracy after augmentation shear: 0.0 angle: 60.0  is  0.5736\n",
            "Accuracy after augmentation shear: 0.2 angle: 0.0  is  0.6334\n",
            "Accuracy after augmentation shear: 0.2 angle: 10.0  is  0.6096\n",
            "Accuracy after augmentation shear: 0.2 angle: 20.0  is  0.5994\n",
            "Accuracy after augmentation shear: 0.2 angle: 30.0  is  0.5942\n",
            "Accuracy after augmentation shear: 0.2 angle: 40.0  is  0.5971\n",
            "Accuracy after augmentation shear: 0.2 angle: 50.0  is  0.6032\n",
            "Accuracy after augmentation shear: 0.2 angle: 60.0  is  0.6162\n",
            "Accuracy after augmentation shear: 0.4 angle: 0.0  is  0.6335\n",
            "Accuracy after augmentation shear: 0.4 angle: 10.0  is  0.5994\n",
            "Accuracy after augmentation shear: 0.4 angle: 20.0  is  0.606\n",
            "Accuracy after augmentation shear: 0.4 angle: 30.0  is  0.5943\n",
            "Accuracy after augmentation shear: 0.4 angle: 40.0  is  0.5832\n",
            "Accuracy after augmentation shear: 0.4 angle: 50.0  is  0.6034\n",
            "Accuracy after augmentation shear: 0.4 angle: 60.0  is  0.5979\n",
            "Accuracy after augmentation shear: 0.6 angle: 0.0  is  0.6339\n",
            "Accuracy after augmentation shear: 0.6 angle: 10.0  is  0.5842\n",
            "Accuracy after augmentation shear: 0.6 angle: 20.0  is  0.5929\n",
            "Accuracy after augmentation shear: 0.6 angle: 30.0  is  0.5941\n",
            "Accuracy after augmentation shear: 0.6 angle: 40.0  is  0.6015\n",
            "Accuracy after augmentation shear: 0.6 angle: 50.0  is  0.5978\n",
            "Accuracy after augmentation shear: 0.6 angle: 60.0  is  0.6146\n",
            "Accuracy after augmentation shear: 0.8 angle: 0.0  is  0.6342\n",
            "Accuracy after augmentation shear: 0.8 angle: 10.0  is  0.6061\n",
            "Accuracy after augmentation shear: 0.8 angle: 20.0  is  0.5963\n",
            "Accuracy after augmentation shear: 0.8 angle: 30.0  is  0.6129\n",
            "Accuracy after augmentation shear: 0.8 angle: 40.0  is  0.5882\n",
            "Accuracy after augmentation shear: 0.8 angle: 50.0  is  0.5878\n",
            "Accuracy after augmentation shear: 0.8 angle: 60.0  is  0.6076\n",
            "Accuracy after augmentation shear: 1.0 angle: 0.0  is  0.6333\n",
            "Accuracy after augmentation shear: 1.0 angle: 10.0  is  0.5871\n",
            "Accuracy after augmentation shear: 1.0 angle: 20.0  is  0.6012\n",
            "Accuracy after augmentation shear: 1.0 angle: 30.0  is  0.5937\n",
            "Accuracy after augmentation shear: 1.0 angle: 40.0  is  0.5888\n",
            "Accuracy after augmentation shear: 1.0 angle: 50.0  is  0.5852\n",
            "Accuracy after augmentation shear: 1.0 angle: 60.0  is  0.587\n",
            "Accuracy after augmentation shear: 1.2 angle: 0.0  is  0.6349\n",
            "Accuracy after augmentation shear: 1.2 angle: 10.0  is  0.5899\n",
            "Accuracy after augmentation shear: 1.2 angle: 20.0  is  0.5987\n",
            "Accuracy after augmentation shear: 1.2 angle: 30.0  is  0.5723\n",
            "Accuracy after augmentation shear: 1.2 angle: 40.0  is  0.6027\n",
            "Accuracy after augmentation shear: 1.2 angle: 50.0  is  0.5944\n",
            "Accuracy after augmentation shear: 1.2 angle: 60.0  is  0.6017\n",
            "Accuracy after augmentation shear: 1.4 angle: 0.0  is  0.6345\n",
            "Accuracy after augmentation shear: 1.4 angle: 10.0  is  0.6035\n",
            "Accuracy after augmentation shear: 1.4 angle: 20.0  is  0.6104\n",
            "Accuracy after augmentation shear: 1.4 angle: 30.0  is  0.5657\n",
            "Accuracy after augmentation shear: 1.4 angle: 40.0  is  0.5983\n",
            "Accuracy after augmentation shear: 1.4 angle: 50.0  is  0.5876\n",
            "Accuracy after augmentation shear: 1.4 angle: 60.0  is  0.6093\n",
            "Accuracy after augmentation shear: 1.6 angle: 0.0  is  0.6331\n",
            "Accuracy after augmentation shear: 1.6 angle: 10.0  is  0.6341\n",
            "Accuracy after augmentation shear: 1.6 angle: 20.0  is  0.591\n",
            "Accuracy after augmentation shear: 1.6 angle: 30.0  is  0.6079\n",
            "Accuracy after augmentation shear: 1.6 angle: 40.0  is  0.5987\n",
            "Accuracy after augmentation shear: 1.6 angle: 50.0  is  0.6035\n",
            "Accuracy after augmentation shear: 1.6 angle: 60.0  is  0.5965\n"
          ]
        }
      ]
    },
    {
      "cell_type": "markdown",
      "source": [
        "Let us plot it two dimensionally to see which is the best value for the hyperparameters:"
      ],
      "metadata": {
        "id": "twI4Tk5etBTE"
      }
    },
    {
      "cell_type": "code",
      "source": [
        "fig = plt.figure()\n",
        "ax = fig.add_axes([0.1, 0.1, 0.8, 0.8]) # main axes\n",
        "im = ax.imshow(accuracies.reshape((len(shearconstraints), len(angleconstraints))), cmap='inferno') \n",
        "ax.set_xlabel('angle')\n",
        "ax.set_ylabel('shear')\n",
        "ax.set_xticks(np.arange(len(angleconstraints)));\n",
        "ax.set_xticklabels(angleconstraints);\n",
        "ax.set_yticks(np.arange(len(shearconstraints)));\n",
        "ax.set_yticklabels(shearconstraints);\n",
        "plt.colorbar(im)"
      ],
      "metadata": {
        "colab": {
          "base_uri": "https://localhost:8080/",
          "height": 310
        },
        "id": "CS8X6jLAs7hW",
        "outputId": "bbf0eeb2-b047-4f00-dda6-1b433f44b7b2"
      },
      "execution_count": null,
      "outputs": [
        {
          "output_type": "execute_result",
          "data": {
            "text/plain": [
              "<matplotlib.colorbar.Colorbar at 0x7f863f539590>"
            ]
          },
          "metadata": {},
          "execution_count": 31
        },
        {
          "output_type": "display_data",
          "data": {
            "text/plain": [
              "<Figure size 432x288 with 2 Axes>"
            ],
            "image/png": "[encoded data removed]"
          },
          "metadata": {
            "needs_background": "light"
          }
        }
      ]
    },
    {
      "cell_type": "markdown",
      "source": [
        "It seems that rotation and shear don't mix! The best accuracy is when rotation is zero."
      ],
      "metadata": {
        "id": "JRnymka4vnla"
      }
    },
    {
      "cell_type": "markdown",
      "source": [
        "## Questions\n",
        "Try these questions for better understanding. You may not be able to solve all of them. \n",
        "1. What is the best value for angle constraint and shear constraint you got? How much did the accuracy improve as compared to not using augmentations?\n",
        "2. Can you increase the accuracy by increasing the number of augmentations from each sample?\n",
        "3. Try implementing a few augmentations of your own and experimenting with them. A good reference is <a href=https://www.analyticsvidhya.com/blog/2019/12/image-augmentation-deep-learning-pytorch/>here. </a>\n",
        "4. Try combining various augmentations. What is the highest accuracy you can get? What is the smallest training dataset you can take and still get accuracy above 50%?\n",
        "\n",
        "Whenever you do any experiment, a good practice is to vary the hyperparameters gradually and create a graph of your results, like we did for gridsearch. "
      ],
      "metadata": {
        "id": "cU9AxYWJvs_P"
      }
    },
    {
      "cell_type": "markdown",
      "source": [
        "# Answers"
      ],
      "metadata": {
        "id": "dvumubtWf_Hf"
      }
    },
    {
      "cell_type": "markdown",
      "source": [
        "1. Best value of angle and shear constraint was 20 and 0.8 respectively without any augmentations done. After using augmentations there was a 4% increase in accuracy. "
      ],
      "metadata": {
        "id": "EUBu6PZHj8R4"
      }
    },
    {
      "cell_type": "markdown",
      "source": [
        "2. When the number of augmentations are increased the accuracy also increases, but if we apply too many augmentations then the accuracy may decrease."
      ],
      "metadata": {
        "id": "RPx9zyHFkwgS"
      }
    },
    {
      "cell_type": "code",
      "source": [],
      "metadata": {
        "id": "U8vjAkkdvjOk"
      },
      "execution_count": null,
      "outputs": []
    }
  ]
}